{
 "cells": [
  {
   "cell_type": "code",
   "execution_count": 1257,
   "id": "245e8ce6-ebd2-4446-8164-8f44aa8c2fb4",
   "metadata": {},
   "outputs": [],
   "source": [
    "import requests"
   ]
  },
  {
   "cell_type": "code",
   "execution_count": 1258,
   "id": "256a88ea-23be-4609-b6f2-215ffd1bd6e4",
   "metadata": {},
   "outputs": [],
   "source": [
    "from bs4 import BeautifulSoup as bs"
   ]
  },
  {
   "cell_type": "code",
   "execution_count": 1259,
   "id": "5f64d715-a530-4196-b9cd-3410b8dc763b",
   "metadata": {},
   "outputs": [],
   "source": [
    "from urllib.request import urlopen"
   ]
  },
  {
   "cell_type": "code",
   "execution_count": 1260,
   "id": "0863b032-1c37-43e4-b768-5cdd3ae0ac15",
   "metadata": {},
   "outputs": [],
   "source": [
    "import logging"
   ]
  },
  {
   "cell_type": "code",
   "execution_count": null,
   "id": "e3e2a955-9186-436a-8803-454fc26a3461",
   "metadata": {},
   "outputs": [
    {
     "name": "stdout",
     "output_type": "stream",
     "text": [
      "Enter the Items :  Smart Speakers\n"
     ]
    }
   ],
   "source": [
    "product = str(input(\"Enter the Items : \"))"
   ]
  },
  {
   "cell_type": "code",
   "execution_count": null,
   "id": "6d3a6177-3e7a-4adc-bf9a-f2bb62199a50",
   "metadata": {},
   "outputs": [
    {
     "name": "stdout",
     "output_type": "stream",
     "text": [
      "https://www.flipkart.com/search?q=SmartSpeakers\n"
     ]
    }
   ],
   "source": [
    "flipkart_url = \"https://www.flipkart.com/search?q=\"+product.replace(\" \",\"\")\n",
    "print(flipkart_url)"
   ]
  },
  {
   "cell_type": "code",
   "execution_count": 1263,
   "id": "9d39f234-185d-4a6c-becd-31e11c4eed91",
   "metadata": {},
   "outputs": [],
   "source": [
    "urlclient = urlopen(flipkart_url)"
   ]
  },
  {
   "cell_type": "code",
   "execution_count": 1264,
   "id": "73882f07-e4d1-4c60-92da-87247a996765",
   "metadata": {},
   "outputs": [],
   "source": [
    "flipkart_page  = urlclient.read()"
   ]
  },
  {
   "cell_type": "code",
   "execution_count": 1265,
   "id": "f37c0755-0ecb-4f01-a9b1-0e081d937b89",
   "metadata": {},
   "outputs": [],
   "source": [
    "flipkart_html = bs(flipkart_page,\"html.parser\")"
   ]
  },
  {
   "cell_type": "code",
   "execution_count": 1266,
   "id": "c6aab5ca-3981-439d-8524-ee9b915bbf3e",
   "metadata": {},
   "outputs": [
    {
     "data": {
      "text/plain": [
       "'https://www.flipkart.com/apple-iphone-16-white-128-gb/p/itm7c0281cd247be?pid=MOBH4DQF849HCG6G&amp;lid=LSTMOBH4DQF849HCG6GXHBPXY&amp;marketplace=FLIPKART&amp;q=Iphone16&amp;store=tyy%2F4io&amp;spotlightTagId=default_BestsellerId_tyy%2F4io&amp;srno=s_1_1&amp;otracker=search&amp;fm=organic&amp;iid=0ee9a3ce-d50c-4432-8b74-22baabf4ddae.MOBH4DQF849HCG6G.SEARCH&amp;ppt=sp&amp;ppn=sp&amp;qH=6fde8b69f35ad8a4'"
      ]
     },
     "execution_count": 1266,
     "metadata": {},
     "output_type": "execute_result"
    }
   ],
   "source": [
    "\"https://www.flipkart.com\"+\"/apple-iphone-16-white-128-gb/p/itm7c0281cd247be?pid=MOBH4DQF849HCG6G&amp;lid=LSTMOBH4DQF849HCG6GXHBPXY&amp;marketplace=FLIPKART&amp;q=Iphone16&amp;store=tyy%2F4io&amp;spotlightTagId=default_BestsellerId_tyy%2F4io&amp;srno=s_1_1&amp;otracker=search&amp;fm=organic&amp;iid=0ee9a3ce-d50c-4432-8b74-22baabf4ddae.MOBH4DQF849HCG6G.SEARCH&amp;ppt=sp&amp;ppn=sp&amp;qH=6fde8b69f35ad8a4\""
   ]
  },
  {
   "cell_type": "code",
   "execution_count": 1267,
   "id": "fb1dff57-6c81-45aa-bb6f-5dd85ad07def",
   "metadata": {},
   "outputs": [],
   "source": [
    "bigbox= flipkart_html.find_all(\"div\",{\"class\":\"_75nlfW\"})"
   ]
  },
  {
   "cell_type": "code",
   "execution_count": 1268,
   "id": "c9ca3646-164e-4570-a817-44926584fe52",
   "metadata": {},
   "outputs": [
    {
     "data": {
      "text/plain": [
       "10"
      ]
     },
     "execution_count": 1268,
     "metadata": {},
     "output_type": "execute_result"
    }
   ],
   "source": [
    "len(bigbox)"
   ]
  },
  {
   "cell_type": "code",
   "execution_count": 1269,
   "id": "b5601ffc-92b4-42c2-b3f0-e4a64d3ab83d",
   "metadata": {},
   "outputs": [],
   "source": [
    "# del bigbox[0:2]"
   ]
  },
  {
   "cell_type": "code",
   "execution_count": 1270,
   "id": "d09abcd4-638d-485f-942b-3131910dab97",
   "metadata": {},
   "outputs": [],
   "source": [
    "flipkartcom = \"https://www.flipkart.com\""
   ]
  },
  {
   "cell_type": "code",
   "execution_count": 1271,
   "id": "f6d43da4-257c-4f01-aac4-073adf4b8276",
   "metadata": {},
   "outputs": [],
   "source": [
    "Item1 = bigbox[1].div.div.a[\"href\"]"
   ]
  },
  {
   "cell_type": "code",
   "execution_count": 1272,
   "id": "0b839ff9-03b2-45ca-a25e-78d66eabbb66",
   "metadata": {},
   "outputs": [],
   "source": [
    " list_items = []"
   ]
  },
  {
   "cell_type": "code",
   "execution_count": 1273,
   "id": "77a6c0f4-4b5b-44e4-8ad6-5e9e41823754",
   "metadata": {},
   "outputs": [],
   "source": [
    "for i in bigbox:\n",
    "   \n",
    "    result = flipkartcom+i.div.div.a[\"href\"]\n",
    "    list_items.append(result)\n",
    "    "
   ]
  },
  {
   "cell_type": "code",
   "execution_count": 1274,
   "id": "8905855a-c9e5-43eb-b064-a24d4a593347",
   "metadata": {},
   "outputs": [
    {
     "data": {
      "text/plain": [
       "['https://www.flipkart.com/marq-flipkart-home-google-assistant-smart-speaker/p/itme225a530b7fbf?pid=ATNFZYV8UXTFYBFR&lid=LSTATNFZYV8UXTFYBFRKKMVB1&marketplace=FLIPKART&q=SmartSpeakers&store=0pm%2F0o7&srno=s_1_1&otracker=search&fm=organic&iid=bfb8104f-dd90-4837-a538-dfe60acfc158.ATNFZYV8UXTFYBFR.SEARCH&ppt=None&ppn=None&ssid=k0u7ggr8yo0000001745602550670&qH=89cbcd160a201b6e',\n",
       " 'https://www.flipkart.com/alexa-echo-pop-bluetooth-assistant-smart-speaker/p/itm019d11059d7b2?pid=ACCH4N5DVUQN2HKZ&lid=LSTACCH4N5DVUQN2HKZDYD4GJ&marketplace=FLIPKART&q=SmartSpeakers&store=0pm%2F0o7&srno=s_1_5&otracker=search&fm=organic&iid=bfb8104f-dd90-4837-a538-dfe60acfc158.ACCH4N5DVUQN2HKZ.SEARCH&ppt=None&ppn=None&ssid=k0u7ggr8yo0000001745602550670&qH=89cbcd160a201b6e',\n",
       " 'https://www.flipkart.com/vanshita-google-alexa-assistant-smart-speaker/p/itm41307f6aaf144?pid=ACCH6WXZFXWUVG7M&lid=LSTACCH6WXZFXWUVG7MSXWU15&marketplace=FLIPKART&q=SmartSpeakers&store=0pm%2F0o7&srno=s_1_9&otracker=search&fm=organic&iid=bfb8104f-dd90-4837-a538-dfe60acfc158.ACCH6WXZFXWUVG7M.SEARCH&ppt=None&ppn=None&ssid=k0u7ggr8yo0000001745602550670&qH=89cbcd160a201b6e',\n",
       " 'https://www.flipkart.com/alexa-echo-dot-5th-gen-bluetooth-assistant-smart-speaker/p/itm9a342ef093026?pid=ACCH4N5D5DYKVDG9&lid=LSTACCH4N5D5DYKVDG9JM5CNY&marketplace=FLIPKART&q=SmartSpeakers&store=0pm%2F0o7&srno=s_1_13&otracker=search&fm=organic&iid=bfb8104f-dd90-4837-a538-dfe60acfc158.ACCH4N5D5DYKVDG9.SEARCH&ppt=None&ppn=None&ssid=k0u7ggr8yo0000001745602550670&qH=89cbcd160a201b6e',\n",
       " 'https://www.flipkart.com/vanshita-alexa-assistant-smart-speaker/p/itmcdd6bb4ab2ad3?pid=ACCH664GT46EBRZQ&lid=LSTACCH664GT46EBRZQ65ZK4M&marketplace=FLIPKART&q=SmartSpeakers&store=0pm%2F0o7&srno=s_1_17&otracker=search&fm=organic&iid=bfb8104f-dd90-4837-a538-dfe60acfc158.ACCH664GT46EBRZQ.SEARCH&ppt=None&ppn=None&ssid=k0u7ggr8yo0000001745602550670&qH=89cbcd160a201b6e',\n",
       " 'https://www.flipkart.com/tp-troops-google-assistant-smart-speaker/p/itm205c77996a01c?pid=ACCGS7NAVCJFD2DN&lid=LSTACCGS7NAVCJFD2DNWIDSZS&marketplace=FLIPKART&q=SmartSpeakers&store=0pm%2F0o7&srno=s_1_21&otracker=search&fm=organic&iid=bfb8104f-dd90-4837-a538-dfe60acfc158.ACCGS7NAVCJFD2DN.SEARCH&ppt=None&ppn=None&ssid=k0u7ggr8yo0000001745602550670&qH=89cbcd160a201b6e',\n",
       " 'https://www.flipkart.com/vanshita-siri-assistant-smart-speaker/p/itm3181c71835234?pid=ACCH7ZZRK7X2DYQ8&lid=LSTACCH7ZZRK7X2DYQ8054OX4&marketplace=FLIPKART&q=SmartSpeakers&store=0pm%2F0o7&srno=s_1_25&otracker=search&fm=organic&iid=bfb8104f-dd90-4837-a538-dfe60acfc158.ACCH7ZZRK7X2DYQ8.SEARCH&ppt=None&ppn=None&ssid=k0u7ggr8yo0000001745602550670&qH=89cbcd160a201b6e',\n",
       " 'https://www.flipkart.com/seashot-google-alexa-siri-assistant-smart-speaker/p/itm7f74b8f3afa7b?pid=ACCH3SBFQEYUYQJN&lid=LSTACCH3SBFQEYUYQJNDKGRC6&marketplace=FLIPKART&q=SmartSpeakers&store=0pm%2F0o7&srno=s_1_29&otracker=search&fm=organic&iid=bfb8104f-dd90-4837-a538-dfe60acfc158.ACCH3SBFQEYUYQJN.SEARCH&ppt=None&ppn=None&ssid=k0u7ggr8yo0000001745602550670&qH=89cbcd160a201b6e',\n",
       " 'https://www.flipkart.com/alexa-echo-dot-5th-gen-bluetooth-assistant-smart-speaker/p/itma28a01c546bd6?pid=ACCH4N5DJUGZUAKM&lid=LSTACCH4N5DJUGZUAKMNICNTC&marketplace=FLIPKART&q=SmartSpeakers&store=0pm%2F0o7&srno=s_1_33&otracker=search&fm=organic&iid=bfb8104f-dd90-4837-a538-dfe60acfc158.ACCH4N5DJUGZUAKM.SEARCH&ppt=None&ppn=None&ssid=k0u7ggr8yo0000001745602550670&qH=89cbcd160a201b6e',\n",
       " 'https://www.flipkart.com/seashot-google-alexa-siri-assistant-smart-speaker/p/itm9d104b83923d4?pid=ACCH5P8JSTSBGGSA&lid=LSTACCH5P8JSTSBGGSAIOHRYZ&marketplace=FLIPKART&q=SmartSpeakers&store=0pm%2F0o7&srno=s_1_37&otracker=search&fm=organic&iid=bfb8104f-dd90-4837-a538-dfe60acfc158.ACCH5P8JSTSBGGSA.SEARCH&ppt=None&ppn=None&ssid=k0u7ggr8yo0000001745602550670&qH=89cbcd160a201b6e']"
      ]
     },
     "execution_count": 1274,
     "metadata": {},
     "output_type": "execute_result"
    }
   ],
   "source": [
    "list_items"
   ]
  },
  {
   "cell_type": "code",
   "execution_count": 1275,
   "id": "9f34ea92-640a-41ea-a749-d74f6296b4c1",
   "metadata": {},
   "outputs": [],
   "source": [
    "from bs4 import BeautifulSoup as bs\n",
    "import requests\n",
    "\n",
    "product_name = []\n",
    "for url in list_items:\n",
    "    response = requests.get(url)\n",
    "    product_html = bs(response.text, \"html.parser\")\n",
    "    \n",
    "    data_prod = product_html.find_all(\"div\", {\"class\": \"C7fEHH\"})\n",
    "    \n",
    "    if data_prod:  \n",
    "        try:\n",
    "            dataof = data_prod[0].div.span.text  \n",
    "            product_name.append(dataof)\n",
    "        except AttributeError:\n",
    "            product_name.append(\"Data not found\")\n",
    "    else:\n",
    "        product_name.append(\"No product info found\")\n",
    "\n",
    "    "
   ]
  },
  {
   "cell_type": "code",
   "execution_count": 1276,
   "id": "6d4ba828-b373-42b9-8adf-48c432b49ae4",
   "metadata": {
    "scrolled": true
   },
   "outputs": [
    {
     "data": {
      "text/plain": [
       "['MarQ by Flipkart Home with Google Assistant Smart Speaker\\xa0\\xa0(Black)',\n",
       " 'Alexa Echo Pop| Bluetooth with Alexa Assistant Smart Speaker\\xa0\\xa0(Green)',\n",
       " 'VANSHITA with Google & Alexa Assistant Smart Speaker\\xa0\\xa0(Blue)',\n",
       " 'Alexa Echo Dot (5th Gen)| Bluetooth with Alexa Assistant Smart Speaker\\xa0\\xa0(Black)',\n",
       " 'VANSHITA with Alexa Assistant Smart Speaker\\xa0\\xa0(Blue)',\n",
       " 'TP TROOPS with Google Assistant Smart Speaker\\xa0\\xa0(Black)',\n",
       " 'VANSHITA with Siri Assistant Smart Speaker\\xa0\\xa0(Purple)',\n",
       " 'Seashot with Google, Alexa & Siri Assistant Smart Speaker\\xa0\\xa0(Multicolor)',\n",
       " 'Alexa Echo Dot (5th Gen)| Bluetooth with Alexa Assistant Smart Speaker\\xa0\\xa0(Blue)',\n",
       " 'Seashot with Google, Alexa & Siri Assistant Smart Speaker\\xa0\\xa0(BLUE,PURPLE)']"
      ]
     },
     "execution_count": 1276,
     "metadata": {},
     "output_type": "execute_result"
    }
   ],
   "source": [
    "product_name"
   ]
  },
  {
   "cell_type": "code",
   "execution_count": 1277,
   "id": "a01afbbd-59dc-4d6e-8958-9bd0425f97b0",
   "metadata": {},
   "outputs": [
    {
     "data": {
      "text/plain": [
       "'https://www.flipkart.com/marq-flipkart-home-google-assistant-smart-speaker/p/itme225a530b7fbf?pid=ATNFZYV8UXTFYBFR&lid=LSTATNFZYV8UXTFYBFRKKMVB1&marketplace=FLIPKART&q=SmartSpeakers&store=0pm%2F0o7&srno=s_1_1&otracker=search&fm=organic&iid=bfb8104f-dd90-4837-a538-dfe60acfc158.ATNFZYV8UXTFYBFR.SEARCH&ppt=None&ppn=None&ssid=k0u7ggr8yo0000001745602550670&qH=89cbcd160a201b6e'"
      ]
     },
     "execution_count": 1277,
     "metadata": {},
     "output_type": "execute_result"
    }
   ],
   "source": [
    "list_items[0]"
   ]
  },
  {
   "cell_type": "code",
   "execution_count": 1278,
   "id": "93cf4554-b40f-497d-aad9-1537b55f5bb4",
   "metadata": {},
   "outputs": [],
   "source": [
    "daat = list_items[0]"
   ]
  },
  {
   "cell_type": "code",
   "execution_count": 1279,
   "id": "0ba0d5f8-4864-4e76-8b1a-9df310fbd348",
   "metadata": {},
   "outputs": [],
   "source": [
    "response = requests.get(daat)"
   ]
  },
  {
   "cell_type": "code",
   "execution_count": 1280,
   "id": "e90048b8-d650-4f42-9e54-c901c46c52b7",
   "metadata": {},
   "outputs": [],
   "source": [
    " product_html = bs(response.text, \"html.parser\")"
   ]
  },
  {
   "cell_type": "code",
   "execution_count": 1281,
   "id": "b3fcbfdb-aa8f-4179-8113-b4cdefc71c7c",
   "metadata": {},
   "outputs": [],
   "source": [
    "data_prod = product_html.find_all(\"div\",{\"class\":\"Nx9bqj CxhGGd\"})"
   ]
  },
  {
   "cell_type": "code",
   "execution_count": 1282,
   "id": "36b907bd-c0fd-47a5-8cf2-08519bca82cc",
   "metadata": {},
   "outputs": [],
   "source": [
    "# data_prod[0].text"
   ]
  },
  {
   "cell_type": "code",
   "execution_count": 1283,
   "id": "0f5eedf7-4be6-4536-8585-45bc7949d1ec",
   "metadata": {},
   "outputs": [],
   "source": [
    "# daat = list_items[0]\n",
    "# response = requests.get(daat)\n",
    "# product_html = bs(response.text, \"html.parser\")\n",
    "# data_prod = product_html.find_all(\"div\",{\"class\":\"Nx9bqj CxhGGd\"})\n",
    "# data_prod\n",
    "# data_prod[0].text"
   ]
  },
  {
   "cell_type": "code",
   "execution_count": 1284,
   "id": "e89f01d3-4616-4530-8df4-edc64546fa35",
   "metadata": {},
   "outputs": [
    {
     "data": {
      "text/plain": [
       "['₹74,900']"
      ]
     },
     "execution_count": 1284,
     "metadata": {},
     "output_type": "execute_result"
    }
   ],
   "source": [
    "jj"
   ]
  },
  {
   "cell_type": "code",
   "execution_count": null,
   "id": "f167d9b3-09cb-4b1e-a570-a1a9ded5339b",
   "metadata": {},
   "outputs": [],
   "source": []
  },
  {
   "cell_type": "code",
   "execution_count": 1285,
   "id": "c2812426-3363-4984-8444-22f755fa3f42",
   "metadata": {},
   "outputs": [],
   "source": [
    "def get_price_with_retry(url, retries=2):\n",
    "    for attempt in range(retries):\n",
    "        response = requests.get(url, headers=headers)\n",
    "        soup = bs(response.text, \"html.parser\")\n",
    "        data_prod = soup.find_all(\"div\", {\"class\": \"Nx9bqj CxhGGd\"})\n",
    "        if data_prod:\n",
    "            return data_prod[0].text\n",
    "        time.sleep(1)  # Wait before retry\n",
    "    return \"No product info found\"\n",
    "\n",
    "product_price = [get_price_with_retry(url) for url in list_items]\n"
   ]
  },
  {
   "cell_type": "code",
   "execution_count": 1286,
   "id": "d874b65a-d0b8-4d52-81ff-a5656fed02d6",
   "metadata": {},
   "outputs": [
    {
     "data": {
      "text/plain": [
       "['₹3,319',\n",
       " '₹4,499',\n",
       " '₹255',\n",
       " '₹5,499',\n",
       " '₹269',\n",
       " '₹367',\n",
       " '₹274',\n",
       " '₹579',\n",
       " 'No product info found',\n",
       " '₹358']"
      ]
     },
     "execution_count": 1286,
     "metadata": {},
     "output_type": "execute_result"
    }
   ],
   "source": [
    "product_price"
   ]
  },
  {
   "cell_type": "code",
   "execution_count": 1287,
   "id": "b9b6c0df-41be-4880-b80a-e3195cf7db0b",
   "metadata": {},
   "outputs": [],
   "source": [
    "## Use the below also if want"
   ]
  },
  {
   "cell_type": "code",
   "execution_count": 1288,
   "id": "71ecf855-aa53-41a1-9961-b3d123a4cc6d",
   "metadata": {},
   "outputs": [],
   "source": [
    "# from bs4 import BeautifulSoup as bs\n",
    "# import requests\n",
    "# import time\n",
    "\n",
    "# headers = {\n",
    "#     \"User-Agent\": \"Mozilla/5.0 (Windows NT 10.0; Win64; x64) \"\n",
    "#                   \"AppleWebKit/537.36 (KHTML, like Gecko) \"\n",
    "#                   \"Chrome/123.0.0.0 Safari/537.36\"\n",
    "# }\n",
    "\n",
    "# product_price = []\n",
    "\n",
    "# for url in list_items:\n",
    "#     try:\n",
    "#         response = requests.get(url, headers=headers)\n",
    "#         product_html = bs(response.text, \"html.parser\")\n",
    "        \n",
    "#         data_prod = product_html.find_all(\"div\", {\"class\": \"Nx9bqj CxhGGd\"})\n",
    "        \n",
    "#         if data_prod:\n",
    "#             product_price.append(data_prod[0].text)\n",
    "#         else:\n",
    "#             product_price.append(\"No product info found\")\n",
    "            \n",
    "#         time.sleep(1)  # Add delay to avoid blocking\n",
    "\n",
    "#     except Exception as e:\n",
    "#         product_price.append(f\"Error: {str(e)}\")\n"
   ]
  },
  {
   "cell_type": "code",
   "execution_count": 1289,
   "id": "25a5f80d-a534-4991-afc0-779d79f9c2b6",
   "metadata": {},
   "outputs": [],
   "source": [
    "# dda = list_items[4]\n",
    "# product_req = requests.get(dda)\n",
    "# product_html = bs(product_req.text,\"html.parser\")\n",
    "# data_prod = product_html.find_all(\"div\",{\"class\":\"col EPCmJX\"})\n",
    "# # data_prod[1].div.p.text"
   ]
  },
  {
   "cell_type": "code",
   "execution_count": 1290,
   "id": "d29b113d-fc82-4359-b32d-1b45a23bd223",
   "metadata": {},
   "outputs": [],
   "source": [
    "import requests\n",
    "from bs4 import BeautifulSoup as bs\n",
    "\n",
    "review_titles = []\n",
    "review_ratings = []\n",
    "\n",
    "# Avoid duplicate URLs\n",
    "unique_urls = list(set(list_items))\n",
    "\n",
    "for url in unique_urls:\n",
    "    response = requests.get(url)\n",
    "    product_html = bs(response.text, \"html.parser\")\n",
    "    \n",
    "    # Find all review blocks\n",
    "    data_prod = product_html.find_all(\"div\", {\"class\": \"col EPCmJX\"})\n",
    "    \n",
    "    if data_prod:\n",
    "        for item in data_prod:\n",
    "            try:\n",
    "                rating = item.div.div.text.strip()\n",
    "                title = item.div.p.text.strip()\n",
    "                review_ratings.append(rating)\n",
    "                review_titles.append(title)\n",
    "            except AttributeError:\n",
    "                continue  # skip broken item\n",
    "    else:\n",
    "        # if no reviews at all, record once\n",
    "        review_ratings.append(\"No data\")\n",
    "        review_titles.append(\"No data\")\n"
   ]
  },
  {
   "cell_type": "code",
   "execution_count": 1291,
   "id": "0b471fea-4042-490d-a409-1dff348da089",
   "metadata": {},
   "outputs": [
    {
     "data": {
      "text/plain": [
       "['Does the job',\n",
       " 'Awesome',\n",
       " 'Could be way better',\n",
       " 'Delightful',\n",
       " 'Classy product',\n",
       " 'Just wow!',\n",
       " 'Mind-blowing purchase',\n",
       " 'Brilliant',\n",
       " 'Must buy!',\n",
       " 'Highly recommended',\n",
       " 'Worth every penny',\n",
       " 'No data',\n",
       " 'No data',\n",
       " 'Highly recommended',\n",
       " 'Unsatisfactory',\n",
       " 'Does the job',\n",
       " 'Awesome',\n",
       " 'Could be way better',\n",
       " 'Delightful',\n",
       " 'Classy product',\n",
       " 'Just wow!',\n",
       " 'Mind-blowing purchase',\n",
       " 'Brilliant',\n",
       " 'Must buy!',\n",
       " 'Highly recommended',\n",
       " 'Terrific',\n",
       " 'Value-for-money',\n",
       " 'Not recommended at all',\n",
       " \"Don't waste your money\",\n",
       " 'Unsatisfactory',\n",
       " 'Very poor',\n",
       " 'Just wow!',\n",
       " 'Highly recommended',\n",
       " 'Terrific purchase',\n",
       " 'Wonderful',\n",
       " 'No data',\n",
       " 'Great product',\n",
       " 'Super!',\n",
       " 'Wonderful',\n",
       " 'Could be way better',\n",
       " 'Terrific',\n",
       " 'Brilliant',\n",
       " 'Fabulous!',\n",
       " 'Just wow!',\n",
       " 'Terrific',\n",
       " 'Excellent',\n",
       " 'No data']"
      ]
     },
     "execution_count": 1291,
     "metadata": {},
     "output_type": "execute_result"
    }
   ],
   "source": [
    "review_titles"
   ]
  },
  {
   "cell_type": "code",
   "execution_count": 1292,
   "id": "a230217d-1579-4c6d-95a5-191c5efa92c0",
   "metadata": {},
   "outputs": [
    {
     "data": {
      "text/plain": [
       "['3',\n",
       " '5',\n",
       " '2',\n",
       " '4',\n",
       " '5',\n",
       " '5',\n",
       " '5',\n",
       " '5',\n",
       " '5',\n",
       " '5',\n",
       " '5',\n",
       " 'No data',\n",
       " 'No data',\n",
       " '5',\n",
       " '1',\n",
       " '3',\n",
       " '5',\n",
       " '2',\n",
       " '4',\n",
       " '5',\n",
       " '5',\n",
       " '5',\n",
       " '5',\n",
       " '5',\n",
       " '5',\n",
       " '5',\n",
       " '4',\n",
       " '1',\n",
       " '1',\n",
       " '1',\n",
       " '1',\n",
       " '5',\n",
       " '5',\n",
       " '5',\n",
       " '5',\n",
       " 'No data',\n",
       " '5',\n",
       " '5',\n",
       " '5',\n",
       " '2',\n",
       " '5',\n",
       " '5',\n",
       " '5',\n",
       " '5',\n",
       " '5',\n",
       " '5',\n",
       " 'No data']"
      ]
     },
     "execution_count": 1292,
     "metadata": {},
     "output_type": "execute_result"
    }
   ],
   "source": [
    "review_ratings"
   ]
  },
  {
   "cell_type": "code",
   "execution_count": 1293,
   "id": "64194658-4d04-4441-bbb6-6f04011b19d1",
   "metadata": {},
   "outputs": [
    {
     "data": {
      "text/plain": [
       "'https://www.flipkart.com/vanshita-google-alexa-assistant-smart-speaker/p/itm41307f6aaf144?pid=ACCH6WXZFXWUVG7M&lid=LSTACCH6WXZFXWUVG7MSXWU15&marketplace=FLIPKART&q=SmartSpeakers&store=0pm%2F0o7&srno=s_1_9&otracker=search&fm=organic&iid=bfb8104f-dd90-4837-a538-dfe60acfc158.ACCH6WXZFXWUVG7M.SEARCH&ppt=None&ppn=None&ssid=k0u7ggr8yo0000001745602550670&qH=89cbcd160a201b6e'"
      ]
     },
     "execution_count": 1293,
     "metadata": {},
     "output_type": "execute_result"
    }
   ],
   "source": [
    "list_items[2]"
   ]
  },
  {
   "cell_type": "code",
   "execution_count": 1294,
   "id": "3f2e4a93-d612-4a02-a8b2-a3eeed4a0401",
   "metadata": {},
   "outputs": [],
   "source": [
    "# dda = list_items[3]"
   ]
  },
  {
   "cell_type": "code",
   "execution_count": 1295,
   "id": "3ba2b35d-ee64-477f-a7b7-5ebd135d8531",
   "metadata": {
    "scrolled": true
   },
   "outputs": [],
   "source": [
    "# product_req = requests.get(dda)"
   ]
  },
  {
   "cell_type": "code",
   "execution_count": 1296,
   "id": "c0758475-8680-4dcb-9eef-ba518bc646b2",
   "metadata": {},
   "outputs": [],
   "source": [
    "# product_html = bs(product_req.text,\"html.parser\")"
   ]
  },
  {
   "cell_type": "code",
   "execution_count": 1297,
   "id": "2c7aebdb-729b-44ad-88fb-59a6cae59744",
   "metadata": {},
   "outputs": [],
   "source": [
    "# data_prod = product_html.find_all(\"div\",{\"class\":\"ZmyHeo\"})"
   ]
  },
  {
   "cell_type": "code",
   "execution_count": 1298,
   "id": "8c5e03de-e2d4-403d-a2c7-5884258b24e6",
   "metadata": {},
   "outputs": [],
   "source": [
    "# data_prod[4].div.div.text"
   ]
  },
  {
   "cell_type": "code",
   "execution_count": 1299,
   "id": "f597028e-71f4-4bd3-90eb-c9c0d3e47ad0",
   "metadata": {},
   "outputs": [],
   "source": [
    "import requests\n",
    "from bs4 import BeautifulSoup as bs\n",
    "\n",
    "review_content = set()  # use set to avoid duplicates\n",
    "\n",
    "for url in set(list_items):  # remove duplicate URLs\n",
    "    for attempt in range(2):\n",
    "        response = requests.get(url)\n",
    "        product_html = bs(response.text, \"html.parser\")\n",
    "        data_prod = product_html.find_all(\"div\", {\"class\": \"ZmyHeo\"})\n",
    "\n",
    "        if data_prod:\n",
    "            try:\n",
    "                for item in data_prod:\n",
    "                    content = item.div.div.text.strip()\n",
    "                    review_content.add(content)  # set automatically avoids duplicates\n",
    "                break  # got valid data, break retry\n",
    "            except AttributeError:\n",
    "                if attempt == 1:\n",
    "                    review_content.add(\"Data not found\")\n",
    "        elif attempt == 1:\n",
    "            review_content.add(\"No product info found\")\n",
    "\n",
    "# Convert set back to list if needed\n",
    "review_content = list(review_content)"
   ]
  },
  {
   "cell_type": "code",
   "execution_count": 1300,
   "id": "ebbd4bb4-a9e2-4b59-8a72-60e013f89d96",
   "metadata": {},
   "outputs": [
    {
     "data": {
      "text/plain": [
       "['One of the best product. Go for it without any doubt',\n",
       " \"Excellent sound quality.... A great Made in India product.... Would have liked it in more color options...worth it's money\",\n",
       " 'Speaker is good at this price.',\n",
       " 'Good design and quality',\n",
       " 'Awesome',\n",
       " 'Adapter is broken on first day. And this adapter is costin 25% cost of this speaker in market.',\n",
       " 'Perfect working condition thanks for seller and flipkart for best service',\n",
       " 'Installation is very difficult. Also sound is less than as usual.',\n",
       " 'Its price should be slightly less depending on the product.The product is good.',\n",
       " 'Very good',\n",
       " 'No product info found',\n",
       " 'Old eco dot is best',\n",
       " 'Product is not working ￼',\n",
       " 'I really like this product',\n",
       " 'Bass is very bad and sound is not clear',\n",
       " 'Good...',\n",
       " 'Great device.Very good sound with good bass.Very accurate sound detection and works well with Hindi and English language.I was confused before buying to go for google nest or alexa, however this speaker sounds much better.Great build quality.',\n",
       " 'Nice products',\n",
       " 'Very good product',\n",
       " 'Nice product but sound is very low',\n",
       " 'It was awesome 👍😎',\n",
       " 'Good budget super alexa',\n",
       " 'Nice one',\n",
       " \"Product has a issue of voice response and flipcart doesn't give any warranty on this nor help to replace the device. It's very pathetic service. Only after 5 days of product purchase the product was giving problem.\",\n",
       " \"Product is absolutely great. I like the sound and built quality both. Design should be more excellent. I didn't hate any thing. Good for music lover\",\n",
       " 'Amazing Product.. received as except , superb sound overall fantastic ....',\n",
       " 'The product is very good and quality was very good',\n",
       " 'Sound Quality is not Good',\n",
       " 'Good product',\n",
       " 'Maazaaa aa gaya....good one for marq company..... absolutely value for money 🤑🤑🤑🤑🤑🤑',\n",
       " 'Excellent',\n",
       " 'Just smart product bought for 999, look and performance great....go for it if you get such a through away price.',\n",
       " 'Not good sound']"
      ]
     },
     "execution_count": 1300,
     "metadata": {},
     "output_type": "execute_result"
    }
   ],
   "source": [
    "review_content"
   ]
  },
  {
   "cell_type": "code",
   "execution_count": 1301,
   "id": "4c37397a-c08a-40b6-a4ea-40786c000754",
   "metadata": {},
   "outputs": [],
   "source": [
    "alldata = [list_items,product_name,product_price,review_rating,review_title,review_content]"
   ]
  },
  {
   "cell_type": "code",
   "execution_count": 1302,
   "id": "652956df-b2cd-41b6-83c5-de01bc920c76",
   "metadata": {},
   "outputs": [],
   "source": [
    "import csv\n",
    "\n",
    "alldata = [list_items, product_name, product_price, review_ratings, review_titles, review_content]\n",
    "\n",
    "with open(\"Smart Speakers.csv\", mode=\"w\", newline=\"\", encoding=\"utf-8\") as file:\n",
    "    writer = csv.writer(file)\n",
    "    writer.writerows(zip(*alldata))  # transpose rows to columns\n"
   ]
  },
  {
   "cell_type": "code",
   "execution_count": null,
   "id": "891ed9f6-5875-47db-9dac-9ea4d3657d84",
   "metadata": {},
   "outputs": [],
   "source": []
  },
  {
   "cell_type": "code",
   "execution_count": null,
   "id": "2a6b32ce-4141-429d-a7d4-40ebdae2eccc",
   "metadata": {},
   "outputs": [],
   "source": []
  },
  {
   "cell_type": "code",
   "execution_count": null,
   "id": "3e2fa0b1-0b5d-4e63-84f1-9af5470edbde",
   "metadata": {},
   "outputs": [],
   "source": []
  },
  {
   "cell_type": "code",
   "execution_count": null,
   "id": "266f3507-4011-4eba-ac64-0ff54c6c47af",
   "metadata": {},
   "outputs": [],
   "source": []
  },
  {
   "cell_type": "code",
   "execution_count": null,
   "id": "46cd6bf2-1d79-45cc-93cf-de09d389fe00",
   "metadata": {},
   "outputs": [],
   "source": []
  },
  {
   "cell_type": "code",
   "execution_count": null,
   "id": "c492a8a4-2a74-4496-8849-2a1e069ebf5f",
   "metadata": {},
   "outputs": [],
   "source": []
  },
  {
   "cell_type": "code",
   "execution_count": null,
   "id": "6200a498-fe0b-44d1-ab2e-ef7bc39fb04a",
   "metadata": {},
   "outputs": [],
   "source": []
  },
  {
   "cell_type": "code",
   "execution_count": null,
   "id": "966e02fe-070b-4c83-83fd-280e673a8ed7",
   "metadata": {},
   "outputs": [],
   "source": []
  },
  {
   "cell_type": "code",
   "execution_count": null,
   "id": "bc4311c2-21b6-4346-a27c-408645fcf1d1",
   "metadata": {},
   "outputs": [],
   "source": []
  },
  {
   "cell_type": "code",
   "execution_count": null,
   "id": "2277f5b6-0f16-4d35-a9b4-6f2d055ece24",
   "metadata": {},
   "outputs": [],
   "source": []
  },
  {
   "cell_type": "code",
   "execution_count": null,
   "id": "1ffecf04-2466-4188-a858-9681cdd3e4ba",
   "metadata": {},
   "outputs": [],
   "source": []
  },
  {
   "cell_type": "code",
   "execution_count": null,
   "id": "bca7ca82-e221-43aa-a37a-6161ec6dcc10",
   "metadata": {},
   "outputs": [],
   "source": []
  },
  {
   "cell_type": "code",
   "execution_count": null,
   "id": "c7006388-24fc-44da-8457-1f2fa8c9bab2",
   "metadata": {},
   "outputs": [],
   "source": []
  },
  {
   "cell_type": "code",
   "execution_count": null,
   "id": "4d77352e-6f5f-455f-ba09-675a934b14ed",
   "metadata": {},
   "outputs": [],
   "source": []
  },
  {
   "cell_type": "code",
   "execution_count": null,
   "id": "b42b2e46-a86f-4575-93f9-9996000f27f6",
   "metadata": {},
   "outputs": [],
   "source": []
  },
  {
   "cell_type": "code",
   "execution_count": null,
   "id": "d3b40b80-120f-4c18-9b76-1ac5d67e745b",
   "metadata": {},
   "outputs": [],
   "source": []
  },
  {
   "cell_type": "code",
   "execution_count": null,
   "id": "f1c00533-2cba-495e-b99f-19f604b1c36d",
   "metadata": {},
   "outputs": [],
   "source": []
  },
  {
   "cell_type": "code",
   "execution_count": null,
   "id": "d3cc5f6d-8a4f-483e-b8e1-047612da764c",
   "metadata": {},
   "outputs": [],
   "source": []
  },
  {
   "cell_type": "code",
   "execution_count": null,
   "id": "d23f24ff-f050-4805-b5e5-d7387b7654cb",
   "metadata": {},
   "outputs": [],
   "source": []
  },
  {
   "cell_type": "code",
   "execution_count": null,
   "id": "1182f5ef-1dd4-4a22-bcb5-a212734aacc7",
   "metadata": {},
   "outputs": [],
   "source": []
  },
  {
   "cell_type": "code",
   "execution_count": null,
   "id": "8acdb510-34cb-4a29-a2aa-1a7afabf5c57",
   "metadata": {},
   "outputs": [],
   "source": []
  },
  {
   "cell_type": "code",
   "execution_count": null,
   "id": "b6493ae8-cd91-4ff2-abf9-5c07f8e30931",
   "metadata": {},
   "outputs": [],
   "source": []
  },
  {
   "cell_type": "code",
   "execution_count": null,
   "id": "78016aaa-fe3a-410f-8817-e0778e39a76f",
   "metadata": {},
   "outputs": [],
   "source": []
  },
  {
   "cell_type": "code",
   "execution_count": null,
   "id": "20933f7d-bd72-499e-8fe3-3aae0f814e17",
   "metadata": {},
   "outputs": [],
   "source": []
  },
  {
   "cell_type": "code",
   "execution_count": null,
   "id": "fc836453-4a0b-4ed3-a49d-82e7a4019120",
   "metadata": {},
   "outputs": [],
   "source": []
  },
  {
   "cell_type": "code",
   "execution_count": null,
   "id": "65cc7d64-0859-46b5-8e5a-a9ec093c1b7f",
   "metadata": {},
   "outputs": [],
   "source": []
  },
  {
   "cell_type": "code",
   "execution_count": null,
   "id": "5040e67d-826b-48ce-b511-7733c7089ed6",
   "metadata": {},
   "outputs": [],
   "source": []
  },
  {
   "cell_type": "code",
   "execution_count": null,
   "id": "046c5ef1-e2ac-44a1-a1a3-a685a59e18fa",
   "metadata": {},
   "outputs": [],
   "source": []
  },
  {
   "cell_type": "code",
   "execution_count": null,
   "id": "590a9ed9-aaea-452c-aaf3-341647ba5d43",
   "metadata": {},
   "outputs": [],
   "source": []
  },
  {
   "cell_type": "code",
   "execution_count": null,
   "id": "cee4f82b-e390-4347-90a2-47b42b337009",
   "metadata": {},
   "outputs": [],
   "source": []
  },
  {
   "cell_type": "code",
   "execution_count": null,
   "id": "3f1ad393-3866-4a81-a09a-5b19e5dbd1ed",
   "metadata": {},
   "outputs": [],
   "source": []
  },
  {
   "cell_type": "code",
   "execution_count": null,
   "id": "d10959f1-80b1-49f7-bca9-a57b6f13bf97",
   "metadata": {},
   "outputs": [],
   "source": []
  },
  {
   "cell_type": "code",
   "execution_count": null,
   "id": "470f9c61-7028-4dd7-9a4b-d37c860b2eed",
   "metadata": {},
   "outputs": [],
   "source": []
  }
 ],
 "metadata": {
  "kernelspec": {
   "display_name": "Python 3 (ipykernel)",
   "language": "python",
   "name": "python3"
  },
  "language_info": {
   "codemirror_mode": {
    "name": "ipython",
    "version": 3
   },
   "file_extension": ".py",
   "mimetype": "text/x-python",
   "name": "python",
   "nbconvert_exporter": "python",
   "pygments_lexer": "ipython3",
   "version": "3.12.4"
  }
 },
 "nbformat": 4,
 "nbformat_minor": 5
}
