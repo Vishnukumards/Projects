{
 "cells": [
  {
   "cell_type": "code",
   "execution_count": 1,
   "id": "2bd62ae6-1a2d-449e-baf1-10555cd4f7c2",
   "metadata": {},
   "outputs": [],
   "source": [
    "import numpy as np\n",
    "import pandas as pd\n",
    "import matplotlib.pyplot as plt\n",
    "import seaborn as sns"
   ]
  },
  {
   "cell_type": "code",
   "execution_count": 2,
   "id": "bed31962-a5d8-4bb1-a9cd-6b9c38fca70c",
   "metadata": {},
   "outputs": [
    {
     "data": {
      "text/plain": [
       "['Sheet1']"
      ]
     },
     "execution_count": 2,
     "metadata": {},
     "output_type": "execute_result"
    }
   ],
   "source": [
    "xls = pd.ExcelFile(\"DA -Task 2..xlsx\")\n",
    "xls.sheet_names"
   ]
  },
  {
   "cell_type": "code",
   "execution_count": 3,
   "id": "a32ef97a-e903-4eb3-93c3-2e1c755543dd",
   "metadata": {},
   "outputs": [],
   "source": [
    "data = pd.read_excel(\"DA -Task 2..xlsx\")"
   ]
  },
  {
   "cell_type": "code",
   "execution_count": 4,
   "id": "af463b8d-1b23-4cfb-9059-8856acbc2104",
   "metadata": {},
   "outputs": [
    {
     "data": {
      "text/html": [
       "<div>\n",
       "<style scoped>\n",
       "    .dataframe tbody tr th:only-of-type {\n",
       "        vertical-align: middle;\n",
       "    }\n",
       "\n",
       "    .dataframe tbody tr th {\n",
       "        vertical-align: top;\n",
       "    }\n",
       "\n",
       "    .dataframe thead th {\n",
       "        text-align: right;\n",
       "    }\n",
       "</style>\n",
       "<table border=\"1\" class=\"dataframe\">\n",
       "  <thead>\n",
       "    <tr style=\"text-align: right;\">\n",
       "      <th></th>\n",
       "      <th>VIN</th>\n",
       "      <th>TRANSACTION_ID</th>\n",
       "      <th>CORRECTION_VERBATIM</th>\n",
       "      <th>CUSTOMER_VERBATIM</th>\n",
       "      <th>REPAIR_DATE</th>\n",
       "      <th>CAUSAL_PART_NM</th>\n",
       "      <th>GLOBAL_LABOR_CODE_DESCRIPTION</th>\n",
       "      <th>PLATFORM</th>\n",
       "      <th>BODY_STYLE</th>\n",
       "      <th>VPPC</th>\n",
       "      <th>...</th>\n",
       "      <th>TRANSMISSION_TRACE_NBR</th>\n",
       "      <th>SRC_TXN_ID</th>\n",
       "      <th>SRC_VER_NBR</th>\n",
       "      <th>TRANSACTION_CNTR</th>\n",
       "      <th>MEDIA_FLAG</th>\n",
       "      <th>VIN_MODL_DESGTR</th>\n",
       "      <th>LINE_SERIES</th>\n",
       "      <th>LAST_KNOWN_DELVRY_TYPE_CD</th>\n",
       "      <th>NON_CAUSAL_PART_QTY</th>\n",
       "      <th>SALES_REGION_CODE</th>\n",
       "    </tr>\n",
       "  </thead>\n",
       "  <tbody>\n",
       "    <tr>\n",
       "      <th>0</th>\n",
       "      <td>3HCFDDE89SH220903</td>\n",
       "      <td>13021</td>\n",
       "      <td>REPLACED STEERING WHEEL NOW OKAY</td>\n",
       "      <td>STEERING WHEEL COMING APART</td>\n",
       "      <td>2024-01-02</td>\n",
       "      <td>WHEEL ASM-STRG *JET BLACK</td>\n",
       "      <td>Steering Wheel Replacement</td>\n",
       "      <td>Full-Size Trucks</td>\n",
       "      <td>Crew Cab</td>\n",
       "      <td>T1CCF</td>\n",
       "      <td>...</td>\n",
       "      <td>S2210121CNJX0941</td>\n",
       "      <td>2808908219</td>\n",
       "      <td>6</td>\n",
       "      <td>1</td>\n",
       "      <td>N</td>\n",
       "      <td>CF10543</td>\n",
       "      <td>1500</td>\n",
       "      <td>21.0</td>\n",
       "      <td>0</td>\n",
       "      <td>1</td>\n",
       "    </tr>\n",
       "    <tr>\n",
       "      <th>1</th>\n",
       "      <td>1HRFFEE8XSZ230636</td>\n",
       "      <td>13028</td>\n",
       "      <td>CHECKED - FOUND DTC'S U0229 - U1530 SET IN BCM...</td>\n",
       "      <td>CUSTOMER STATES HEATED STEERING WHEEL INOP</td>\n",
       "      <td>2024-01-03</td>\n",
       "      <td>MODULE ASM-STRG WHL HT CONT</td>\n",
       "      <td>Heated Steering Wheel Module Replacement</td>\n",
       "      <td>Full-Size Trucks</td>\n",
       "      <td>Crew Cab</td>\n",
       "      <td>T1CGF</td>\n",
       "      <td>...</td>\n",
       "      <td>R2210881CNJX0287</td>\n",
       "      <td>2808841910</td>\n",
       "      <td>6</td>\n",
       "      <td>1</td>\n",
       "      <td>Y</td>\n",
       "      <td>TF10543</td>\n",
       "      <td>1500</td>\n",
       "      <td>10.0</td>\n",
       "      <td>0</td>\n",
       "      <td>1</td>\n",
       "    </tr>\n",
       "    <tr>\n",
       "      <th>2</th>\n",
       "      <td>1HYKSMRK6SZ000990</td>\n",
       "      <td>13035</td>\n",
       "      <td>APPROVED 4.9(OLH) FOR ADDED DIAGNOSTICS WITH T...</td>\n",
       "      <td>OWNER REPORTS: THE SUPER CRUISE BAR ON THE STE...</td>\n",
       "      <td>2024-01-04</td>\n",
       "      <td>WHEEL ASM-STRG *BACKEN BLACKK</td>\n",
       "      <td>Steering Wheel Replacement</td>\n",
       "      <td>BEV</td>\n",
       "      <td>4 Door Utility</td>\n",
       "      <td>L233-LSOP</td>\n",
       "      <td>...</td>\n",
       "      <td>NaN</td>\n",
       "      <td>2809979441</td>\n",
       "      <td>4</td>\n",
       "      <td>1</td>\n",
       "      <td>Y</td>\n",
       "      <td>6MB26</td>\n",
       "      <td>Lux-1</td>\n",
       "      <td>10.0</td>\n",
       "      <td>0</td>\n",
       "      <td>1</td>\n",
       "    </tr>\n",
       "  </tbody>\n",
       "</table>\n",
       "<p>3 rows × 52 columns</p>\n",
       "</div>"
      ],
      "text/plain": [
       "                 VIN  TRANSACTION_ID  \\\n",
       "0  3HCFDDE89SH220903           13021   \n",
       "1  1HRFFEE8XSZ230636           13028   \n",
       "2  1HYKSMRK6SZ000990           13035   \n",
       "\n",
       "                                 CORRECTION_VERBATIM  \\\n",
       "0                   REPLACED STEERING WHEEL NOW OKAY   \n",
       "1  CHECKED - FOUND DTC'S U0229 - U1530 SET IN BCM...   \n",
       "2  APPROVED 4.9(OLH) FOR ADDED DIAGNOSTICS WITH T...   \n",
       "\n",
       "                                   CUSTOMER_VERBATIM REPAIR_DATE  \\\n",
       "0                        STEERING WHEEL COMING APART  2024-01-02   \n",
       "1         CUSTOMER STATES HEATED STEERING WHEEL INOP  2024-01-03   \n",
       "2  OWNER REPORTS: THE SUPER CRUISE BAR ON THE STE...  2024-01-04   \n",
       "\n",
       "                  CAUSAL_PART_NM             GLOBAL_LABOR_CODE_DESCRIPTION  \\\n",
       "0      WHEEL ASM-STRG *JET BLACK                Steering Wheel Replacement   \n",
       "1    MODULE ASM-STRG WHL HT CONT  Heated Steering Wheel Module Replacement   \n",
       "2  WHEEL ASM-STRG *BACKEN BLACKK                Steering Wheel Replacement   \n",
       "\n",
       "           PLATFORM      BODY_STYLE       VPPC  ... TRANSMISSION_TRACE_NBR  \\\n",
       "0  Full-Size Trucks        Crew Cab      T1CCF  ...       S2210121CNJX0941   \n",
       "1  Full-Size Trucks        Crew Cab      T1CGF  ...       R2210881CNJX0287   \n",
       "2               BEV  4 Door Utility  L233-LSOP  ...                    NaN   \n",
       "\n",
       "   SRC_TXN_ID SRC_VER_NBR TRANSACTION_CNTR MEDIA_FLAG VIN_MODL_DESGTR  \\\n",
       "0  2808908219           6                1          N         CF10543   \n",
       "1  2808841910           6                1          Y         TF10543   \n",
       "2  2809979441           4                1          Y           6MB26   \n",
       "\n",
       "  LINE_SERIES LAST_KNOWN_DELVRY_TYPE_CD  NON_CAUSAL_PART_QTY SALES_REGION_CODE  \n",
       "0        1500                      21.0                    0                 1  \n",
       "1        1500                      10.0                    0                 1  \n",
       "2       Lux-1                      10.0                    0                 1  \n",
       "\n",
       "[3 rows x 52 columns]"
      ]
     },
     "execution_count": 4,
     "metadata": {},
     "output_type": "execute_result"
    }
   ],
   "source": [
    "data.head(3)"
   ]
  },
  {
   "cell_type": "code",
   "execution_count": 5,
   "id": "7d09d3ae-df79-49db-bc82-99e5cfb1c1e8",
   "metadata": {},
   "outputs": [
    {
     "data": {
      "text/html": [
       "<div>\n",
       "<style scoped>\n",
       "    .dataframe tbody tr th:only-of-type {\n",
       "        vertical-align: middle;\n",
       "    }\n",
       "\n",
       "    .dataframe tbody tr th {\n",
       "        vertical-align: top;\n",
       "    }\n",
       "\n",
       "    .dataframe thead th {\n",
       "        text-align: right;\n",
       "    }\n",
       "</style>\n",
       "<table border=\"1\" class=\"dataframe\">\n",
       "  <thead>\n",
       "    <tr style=\"text-align: right;\">\n",
       "      <th></th>\n",
       "      <th>TRANSACTION_ID</th>\n",
       "      <th>REPAIR_DATE</th>\n",
       "      <th>DEALER_REGION</th>\n",
       "      <th>REPAIR_AGE</th>\n",
       "      <th>KM</th>\n",
       "      <th>COMPLAINT_CD_CSI</th>\n",
       "      <th>ORD_SELLING_SRC_CD</th>\n",
       "      <th>GLOBAL_LABOR_CODE</th>\n",
       "      <th>CAMPAIGN_NBR</th>\n",
       "      <th>REPORTING_COST</th>\n",
       "      <th>TOTALCOST</th>\n",
       "      <th>LBRCOST</th>\n",
       "      <th>TRANSMISSION_SOURCE_PLANT</th>\n",
       "      <th>SRC_TXN_ID</th>\n",
       "      <th>SRC_VER_NBR</th>\n",
       "      <th>TRANSACTION_CNTR</th>\n",
       "      <th>LAST_KNOWN_DELVRY_TYPE_CD</th>\n",
       "      <th>NON_CAUSAL_PART_QTY</th>\n",
       "      <th>SALES_REGION_CODE</th>\n",
       "    </tr>\n",
       "  </thead>\n",
       "  <tbody>\n",
       "    <tr>\n",
       "      <th>count</th>\n",
       "      <td>100.000000</td>\n",
       "      <td>100</td>\n",
       "      <td>100.00000</td>\n",
       "      <td>100.000000</td>\n",
       "      <td>100.000000</td>\n",
       "      <td>100.0</td>\n",
       "      <td>100.000000</td>\n",
       "      <td>100.000000</td>\n",
       "      <td>0.0</td>\n",
       "      <td>100.000000</td>\n",
       "      <td>94.000000</td>\n",
       "      <td>100.000000</td>\n",
       "      <td>8.800000e+01</td>\n",
       "      <td>1.000000e+02</td>\n",
       "      <td>100.000000</td>\n",
       "      <td>100.0</td>\n",
       "      <td>98.000000</td>\n",
       "      <td>100.000000</td>\n",
       "      <td>100.00000</td>\n",
       "    </tr>\n",
       "    <tr>\n",
       "      <th>mean</th>\n",
       "      <td>13036.900000</td>\n",
       "      <td>2024-01-22 07:26:24</td>\n",
       "      <td>1.09000</td>\n",
       "      <td>14.940000</td>\n",
       "      <td>24914.230000</td>\n",
       "      <td>0.0</td>\n",
       "      <td>24.590000</td>\n",
       "      <td>251.900000</td>\n",
       "      <td>NaN</td>\n",
       "      <td>531.193200</td>\n",
       "      <td>561.162128</td>\n",
       "      <td>106.344900</td>\n",
       "      <td>1.676383e+08</td>\n",
       "      <td>2.815767e+09</td>\n",
       "      <td>5.720000</td>\n",
       "      <td>1.0</td>\n",
       "      <td>14.132653</td>\n",
       "      <td>0.070000</td>\n",
       "      <td>1.09000</td>\n",
       "    </tr>\n",
       "    <tr>\n",
       "      <th>min</th>\n",
       "      <td>13021.000000</td>\n",
       "      <td>2024-01-02 00:00:00</td>\n",
       "      <td>1.00000</td>\n",
       "      <td>0.000000</td>\n",
       "      <td>3.000000</td>\n",
       "      <td>0.0</td>\n",
       "      <td>11.000000</td>\n",
       "      <td>20.000000</td>\n",
       "      <td>NaN</td>\n",
       "      <td>27.690000</td>\n",
       "      <td>27.690000</td>\n",
       "      <td>20.000000</td>\n",
       "      <td>2.878270e+05</td>\n",
       "      <td>2.808842e+09</td>\n",
       "      <td>2.000000</td>\n",
       "      <td>1.0</td>\n",
       "      <td>10.000000</td>\n",
       "      <td>0.000000</td>\n",
       "      <td>1.00000</td>\n",
       "    </tr>\n",
       "    <tr>\n",
       "      <th>25%</th>\n",
       "      <td>13027.750000</td>\n",
       "      <td>2024-01-12 00:00:00</td>\n",
       "      <td>1.00000</td>\n",
       "      <td>5.000000</td>\n",
       "      <td>8883.250000</td>\n",
       "      <td>0.0</td>\n",
       "      <td>13.000000</td>\n",
       "      <td>130.000000</td>\n",
       "      <td>NaN</td>\n",
       "      <td>305.432500</td>\n",
       "      <td>320.105000</td>\n",
       "      <td>61.855000</td>\n",
       "      <td>2.878270e+05</td>\n",
       "      <td>2.809436e+09</td>\n",
       "      <td>4.000000</td>\n",
       "      <td>1.0</td>\n",
       "      <td>10.000000</td>\n",
       "      <td>0.000000</td>\n",
       "      <td>1.00000</td>\n",
       "    </tr>\n",
       "    <tr>\n",
       "      <th>50%</th>\n",
       "      <td>13036.000000</td>\n",
       "      <td>2024-01-24 12:00:00</td>\n",
       "      <td>1.00000</td>\n",
       "      <td>12.000000</td>\n",
       "      <td>21962.000000</td>\n",
       "      <td>0.0</td>\n",
       "      <td>13.000000</td>\n",
       "      <td>130.000000</td>\n",
       "      <td>NaN</td>\n",
       "      <td>433.970000</td>\n",
       "      <td>457.225000</td>\n",
       "      <td>78.560000</td>\n",
       "      <td>8.042172e+06</td>\n",
       "      <td>2.820097e+09</td>\n",
       "      <td>4.000000</td>\n",
       "      <td>1.0</td>\n",
       "      <td>10.000000</td>\n",
       "      <td>0.000000</td>\n",
       "      <td>1.00000</td>\n",
       "    </tr>\n",
       "    <tr>\n",
       "      <th>75%</th>\n",
       "      <td>13041.250000</td>\n",
       "      <td>2024-02-01 00:00:00</td>\n",
       "      <td>1.00000</td>\n",
       "      <td>21.000000</td>\n",
       "      <td>35493.250000</td>\n",
       "      <td>0.0</td>\n",
       "      <td>48.000000</td>\n",
       "      <td>130.000000</td>\n",
       "      <td>NaN</td>\n",
       "      <td>554.062500</td>\n",
       "      <td>606.905000</td>\n",
       "      <td>108.055000</td>\n",
       "      <td>1.774929e+07</td>\n",
       "      <td>2.820880e+09</td>\n",
       "      <td>6.000000</td>\n",
       "      <td>1.0</td>\n",
       "      <td>16.000000</td>\n",
       "      <td>0.000000</td>\n",
       "      <td>1.00000</td>\n",
       "    </tr>\n",
       "    <tr>\n",
       "      <th>max</th>\n",
       "      <td>13081.000000</td>\n",
       "      <td>2024-02-07 00:00:00</td>\n",
       "      <td>4.00000</td>\n",
       "      <td>50.000000</td>\n",
       "      <td>107905.000000</td>\n",
       "      <td>0.0</td>\n",
       "      <td>72.000000</td>\n",
       "      <td>2400.000000</td>\n",
       "      <td>NaN</td>\n",
       "      <td>2457.450000</td>\n",
       "      <td>3205.450000</td>\n",
       "      <td>1012.670000</td>\n",
       "      <td>8.282984e+08</td>\n",
       "      <td>2.823000e+09</td>\n",
       "      <td>26.000000</td>\n",
       "      <td>1.0</td>\n",
       "      <td>37.000000</td>\n",
       "      <td>1.000000</td>\n",
       "      <td>4.00000</td>\n",
       "    </tr>\n",
       "    <tr>\n",
       "      <th>std</th>\n",
       "      <td>12.028166</td>\n",
       "      <td>NaN</td>\n",
       "      <td>0.51434</td>\n",
       "      <td>12.367945</td>\n",
       "      <td>20747.078206</td>\n",
       "      <td>0.0</td>\n",
       "      <td>17.822976</td>\n",
       "      <td>546.451722</td>\n",
       "      <td>NaN</td>\n",
       "      <td>411.161608</td>\n",
       "      <td>452.796836</td>\n",
       "      <td>113.223074</td>\n",
       "      <td>3.237538e+08</td>\n",
       "      <td>5.790727e+06</td>\n",
       "      <td>4.040402</td>\n",
       "      <td>0.0</td>\n",
       "      <td>6.694570</td>\n",
       "      <td>0.256432</td>\n",
       "      <td>0.51434</td>\n",
       "    </tr>\n",
       "  </tbody>\n",
       "</table>\n",
       "</div>"
      ],
      "text/plain": [
       "       TRANSACTION_ID          REPAIR_DATE  DEALER_REGION  REPAIR_AGE  \\\n",
       "count      100.000000                  100      100.00000  100.000000   \n",
       "mean     13036.900000  2024-01-22 07:26:24        1.09000   14.940000   \n",
       "min      13021.000000  2024-01-02 00:00:00        1.00000    0.000000   \n",
       "25%      13027.750000  2024-01-12 00:00:00        1.00000    5.000000   \n",
       "50%      13036.000000  2024-01-24 12:00:00        1.00000   12.000000   \n",
       "75%      13041.250000  2024-02-01 00:00:00        1.00000   21.000000   \n",
       "max      13081.000000  2024-02-07 00:00:00        4.00000   50.000000   \n",
       "std         12.028166                  NaN        0.51434   12.367945   \n",
       "\n",
       "                  KM  COMPLAINT_CD_CSI  ORD_SELLING_SRC_CD  GLOBAL_LABOR_CODE  \\\n",
       "count     100.000000             100.0          100.000000         100.000000   \n",
       "mean    24914.230000               0.0           24.590000         251.900000   \n",
       "min         3.000000               0.0           11.000000          20.000000   \n",
       "25%      8883.250000               0.0           13.000000         130.000000   \n",
       "50%     21962.000000               0.0           13.000000         130.000000   \n",
       "75%     35493.250000               0.0           48.000000         130.000000   \n",
       "max    107905.000000               0.0           72.000000        2400.000000   \n",
       "std     20747.078206               0.0           17.822976         546.451722   \n",
       "\n",
       "       CAMPAIGN_NBR  REPORTING_COST    TOTALCOST      LBRCOST  \\\n",
       "count           0.0      100.000000    94.000000   100.000000   \n",
       "mean            NaN      531.193200   561.162128   106.344900   \n",
       "min             NaN       27.690000    27.690000    20.000000   \n",
       "25%             NaN      305.432500   320.105000    61.855000   \n",
       "50%             NaN      433.970000   457.225000    78.560000   \n",
       "75%             NaN      554.062500   606.905000   108.055000   \n",
       "max             NaN     2457.450000  3205.450000  1012.670000   \n",
       "std             NaN      411.161608   452.796836   113.223074   \n",
       "\n",
       "       TRANSMISSION_SOURCE_PLANT    SRC_TXN_ID  SRC_VER_NBR  TRANSACTION_CNTR  \\\n",
       "count               8.800000e+01  1.000000e+02   100.000000             100.0   \n",
       "mean                1.676383e+08  2.815767e+09     5.720000               1.0   \n",
       "min                 2.878270e+05  2.808842e+09     2.000000               1.0   \n",
       "25%                 2.878270e+05  2.809436e+09     4.000000               1.0   \n",
       "50%                 8.042172e+06  2.820097e+09     4.000000               1.0   \n",
       "75%                 1.774929e+07  2.820880e+09     6.000000               1.0   \n",
       "max                 8.282984e+08  2.823000e+09    26.000000               1.0   \n",
       "std                 3.237538e+08  5.790727e+06     4.040402               0.0   \n",
       "\n",
       "       LAST_KNOWN_DELVRY_TYPE_CD  NON_CAUSAL_PART_QTY  SALES_REGION_CODE  \n",
       "count                  98.000000           100.000000          100.00000  \n",
       "mean                   14.132653             0.070000            1.09000  \n",
       "min                    10.000000             0.000000            1.00000  \n",
       "25%                    10.000000             0.000000            1.00000  \n",
       "50%                    10.000000             0.000000            1.00000  \n",
       "75%                    16.000000             0.000000            1.00000  \n",
       "max                    37.000000             1.000000            4.00000  \n",
       "std                     6.694570             0.256432            0.51434  "
      ]
     },
     "execution_count": 5,
     "metadata": {},
     "output_type": "execute_result"
    }
   ],
   "source": [
    "data.describe()"
   ]
  },
  {
   "cell_type": "code",
   "execution_count": 6,
   "id": "df33030a-d2fc-4de0-af2e-35cf3d08607b",
   "metadata": {
    "scrolled": true
   },
   "outputs": [
    {
     "name": "stdout",
     "output_type": "stream",
     "text": [
      "<class 'pandas.core.frame.DataFrame'>\n",
      "RangeIndex: 100 entries, 0 to 99\n",
      "Data columns (total 52 columns):\n",
      " #   Column                         Non-Null Count  Dtype         \n",
      "---  ------                         --------------  -----         \n",
      " 0   VIN                            100 non-null    object        \n",
      " 1   TRANSACTION_ID                 100 non-null    int64         \n",
      " 2   CORRECTION_VERBATIM            100 non-null    object        \n",
      " 3   CUSTOMER_VERBATIM              100 non-null    object        \n",
      " 4   REPAIR_DATE                    100 non-null    datetime64[ns]\n",
      " 5   CAUSAL_PART_NM                 95 non-null     object        \n",
      " 6   GLOBAL_LABOR_CODE_DESCRIPTION  100 non-null    object        \n",
      " 7   PLATFORM                       100 non-null    object        \n",
      " 8   BODY_STYLE                     100 non-null    object        \n",
      " 9   VPPC                           100 non-null    object        \n",
      " 10  PLANT                          99 non-null     object        \n",
      " 11  BUILD_COUNTRY                  100 non-null    object        \n",
      " 12  LAST_KNOWN_DLR_NAME            100 non-null    object        \n",
      " 13  LAST_KNOWN_DLR_CITY            100 non-null    object        \n",
      " 14  REPAIRING_DEALER_CODE          100 non-null    object        \n",
      " 15  DEALER_NAME                    100 non-null    object        \n",
      " 16  REPAIR_DLR_CITY                100 non-null    object        \n",
      " 17  STATE                          98 non-null     object        \n",
      " 18  DEALER_REGION                  100 non-null    int64         \n",
      " 19  REPAIR_DLR_POSTAL_CD           98 non-null     object        \n",
      " 20  REPAIR_AGE                     100 non-null    int64         \n",
      " 21  KM                             100 non-null    int64         \n",
      " 22  COMPLAINT_CD_CSI               100 non-null    int64         \n",
      " 23  COMPLAINT_CD                   100 non-null    object        \n",
      " 24  VEH_TEST_GRP                   98 non-null     object        \n",
      " 25  COUNTRY_SALE_ISO               100 non-null    object        \n",
      " 26  ORD_SELLING_SRC_CD             100 non-null    int64         \n",
      " 27  OPTN_FAMLY_CERTIFICATION       90 non-null     object        \n",
      " 28  OPTF_FAMLY_EMISSIOF_SYSTEM     95 non-null     object        \n",
      " 29  GLOBAL_LABOR_CODE              100 non-null    int64         \n",
      " 30  TRANSACTION_CATEGORY           100 non-null    object        \n",
      " 31  CAMPAIGN_NBR                   0 non-null      float64       \n",
      " 32  REPORTING_COST                 100 non-null    float64       \n",
      " 33  TOTALCOST                      94 non-null     float64       \n",
      " 34  LBRCOST                        100 non-null    float64       \n",
      " 35  ENGINE                         100 non-null    object        \n",
      " 36  ENGINE_DESC                    100 non-null    object        \n",
      " 37  TRANSMISSION                   100 non-null    object        \n",
      " 38  TRANSMISSION_DESC              100 non-null    object        \n",
      " 39  ENGINE_SOURCE_PLANT            88 non-null     object        \n",
      " 40  ENGINE_TRACE_NBR               88 non-null     object        \n",
      " 41  TRANSMISSION_SOURCE_PLANT      88 non-null     float64       \n",
      " 42  TRANSMISSION_TRACE_NBR         88 non-null     object        \n",
      " 43  SRC_TXN_ID                     100 non-null    int64         \n",
      " 44  SRC_VER_NBR                    100 non-null    int64         \n",
      " 45  TRANSACTION_CNTR               100 non-null    int64         \n",
      " 46  MEDIA_FLAG                     100 non-null    object        \n",
      " 47  VIN_MODL_DESGTR                100 non-null    object        \n",
      " 48  LINE_SERIES                    99 non-null     object        \n",
      " 49  LAST_KNOWN_DELVRY_TYPE_CD      98 non-null     float64       \n",
      " 50  NON_CAUSAL_PART_QTY            100 non-null    int64         \n",
      " 51  SALES_REGION_CODE              100 non-null    int64         \n",
      "dtypes: datetime64[ns](1), float64(6), int64(12), object(33)\n",
      "memory usage: 40.8+ KB\n"
     ]
    }
   ],
   "source": [
    "data.info()"
   ]
  },
  {
   "cell_type": "code",
   "execution_count": 7,
   "id": "2c97a54f-9010-4275-b7df-00d238823b8e",
   "metadata": {},
   "outputs": [
    {
     "data": {
      "text/plain": [
       "15"
      ]
     },
     "execution_count": 7,
     "metadata": {},
     "output_type": "execute_result"
    }
   ],
   "source": [
    "data.isnull().any().sum()"
   ]
  },
  {
   "cell_type": "code",
   "execution_count": 8,
   "id": "a2fb6c26-32d7-4992-b683-b65875ee4918",
   "metadata": {},
   "outputs": [
    {
     "data": {
      "text/plain": [
       "VIN                              False\n",
       "TRANSACTION_ID                   False\n",
       "CORRECTION_VERBATIM              False\n",
       "CUSTOMER_VERBATIM                False\n",
       "REPAIR_DATE                      False\n",
       "CAUSAL_PART_NM                    True\n",
       "GLOBAL_LABOR_CODE_DESCRIPTION    False\n",
       "PLATFORM                         False\n",
       "BODY_STYLE                       False\n",
       "VPPC                             False\n",
       "PLANT                             True\n",
       "BUILD_COUNTRY                    False\n",
       "LAST_KNOWN_DLR_NAME              False\n",
       "LAST_KNOWN_DLR_CITY              False\n",
       "REPAIRING_DEALER_CODE            False\n",
       "DEALER_NAME                      False\n",
       "REPAIR_DLR_CITY                  False\n",
       "STATE                             True\n",
       "DEALER_REGION                    False\n",
       "REPAIR_DLR_POSTAL_CD              True\n",
       "REPAIR_AGE                       False\n",
       "KM                               False\n",
       "COMPLAINT_CD_CSI                 False\n",
       "COMPLAINT_CD                     False\n",
       "VEH_TEST_GRP                      True\n",
       "COUNTRY_SALE_ISO                 False\n",
       "ORD_SELLING_SRC_CD               False\n",
       "OPTN_FAMLY_CERTIFICATION          True\n",
       "OPTF_FAMLY_EMISSIOF_SYSTEM        True\n",
       "GLOBAL_LABOR_CODE                False\n",
       "TRANSACTION_CATEGORY             False\n",
       "CAMPAIGN_NBR                      True\n",
       "REPORTING_COST                   False\n",
       "TOTALCOST                         True\n",
       "LBRCOST                          False\n",
       "ENGINE                           False\n",
       "ENGINE_DESC                      False\n",
       "TRANSMISSION                     False\n",
       "TRANSMISSION_DESC                False\n",
       "ENGINE_SOURCE_PLANT               True\n",
       "ENGINE_TRACE_NBR                  True\n",
       "TRANSMISSION_SOURCE_PLANT         True\n",
       "TRANSMISSION_TRACE_NBR            True\n",
       "SRC_TXN_ID                       False\n",
       "SRC_VER_NBR                      False\n",
       "TRANSACTION_CNTR                 False\n",
       "MEDIA_FLAG                       False\n",
       "VIN_MODL_DESGTR                  False\n",
       "LINE_SERIES                       True\n",
       "LAST_KNOWN_DELVRY_TYPE_CD         True\n",
       "NON_CAUSAL_PART_QTY              False\n",
       "SALES_REGION_CODE                False\n",
       "dtype: bool"
      ]
     },
     "execution_count": 8,
     "metadata": {},
     "output_type": "execute_result"
    }
   ],
   "source": [
    "data.isnull().any()"
   ]
  },
  {
   "cell_type": "code",
   "execution_count": 9,
   "id": "197e2b5d-087a-4d71-8d30-ea2ceebbbd81",
   "metadata": {},
   "outputs": [
    {
     "data": {
      "text/plain": [
       "array(['Full-Size Trucks', 'BEV', 'Global Crossover Vehicles',\n",
       "       'Luxury Car-3', 'Full-Size Utility', 'Global Gamma',\n",
       "       'Crossover SUV', 'Global Gamma Vehicles', 'GLOBAL EPSILON II',\n",
       "       'Alpha', 'Luxury Car-2'], dtype=object)"
      ]
     },
     "execution_count": 9,
     "metadata": {},
     "output_type": "execute_result"
    }
   ],
   "source": [
    "data[\"PLATFORM\"].unique()"
   ]
  },
  {
   "cell_type": "code",
   "execution_count": 10,
   "id": "8daa47c1-416a-42b9-8964-a4ce3e89e198",
   "metadata": {},
   "outputs": [
    {
     "data": {
      "text/plain": [
       "array(['WHEEL ASM-STRG *JET BLACK', 'MODULE ASM-STRG WHL HT CONT',\n",
       "       'WHEEL ASM-STRG *BACKEN BLACKK',\n",
       "       'HARNESS ASM-STRG WHL HORN SW WRG', nan,\n",
       "       'WHEEL ASM-STRG *VERY DARK AT', 'WHEEL ASM-STRG *DARK TITANIU',\n",
       "       'WHEEL ASM-STRG *BLACK',\n",
       "       'COVER-STRG WHL AIRBAG ACC HOLE *JET BLACK',\n",
       "       'WHEEL ASM-STRG * JET BLACK',\n",
       "       'COVER-STRG WHL SPOKE *LINEAR GALAXD',\n",
       "       'APPLIQUE ASM-STRG WHL TR SPOKE CVR *VULCAN',\n",
       "       'COVER-STRG WHL SPOKE *HI GLOSS V-C',\n",
       "       'APPLIQUE ASM-STRG WHL TR SPOKE CVR *JET BLACK',\n",
       "       'WHEEL ASM-STRG *FAWN', 'WHEEL,STRG *JET BLACK',\n",
       "       'APPLIQUE ASM-STRG WHL TR SPOKE CVR *SYNTHESIS', 'WHEEL ASM,STRG',\n",
       "       'WHEEL ASM-STRG *DARK GALVANIE'], dtype=object)"
      ]
     },
     "execution_count": 10,
     "metadata": {},
     "output_type": "execute_result"
    }
   ],
   "source": [
    "data[\"CAUSAL_PART_NM\"].unique()"
   ]
  },
  {
   "cell_type": "code",
   "execution_count": 11,
   "id": "423c6719-88cf-47e9-85c7-bf8727306b71",
   "metadata": {},
   "outputs": [
    {
     "data": {
      "text/plain": [
       "array(['Crew Cab', '4 Door Utility', '4 Door Sedan', 'Single Cab',\n",
       "       'Extended Cab', '2 Door Coupe'], dtype=object)"
      ]
     },
     "execution_count": 11,
     "metadata": {},
     "output_type": "execute_result"
    }
   ],
   "source": [
    "data[\"BODY_STYLE\"].unique()"
   ]
  },
  {
   "cell_type": "code",
   "execution_count": 12,
   "id": "ef540610-b5dc-467f-8ddc-11118bdd6ab2",
   "metadata": {},
   "outputs": [],
   "source": [
    "# Handling NULL VALUES"
   ]
  },
  {
   "cell_type": "code",
   "execution_count": 13,
   "id": "ba67505b-2418-40b1-972b-dff8f30f2b38",
   "metadata": {},
   "outputs": [
    {
     "data": {
      "text/plain": [
       "(100, 52)"
      ]
     },
     "execution_count": 13,
     "metadata": {},
     "output_type": "execute_result"
    }
   ],
   "source": [
    "data.shape"
   ]
  },
  {
   "cell_type": "code",
   "execution_count": 14,
   "id": "d559af68-a3ab-4dbe-bf3f-3905feac6ba8",
   "metadata": {},
   "outputs": [
    {
     "data": {
      "text/plain": [
       "'WHEEL ASM-STRG *JET BLACK'"
      ]
     },
     "execution_count": 14,
     "metadata": {},
     "output_type": "execute_result"
    }
   ],
   "source": [
    "data[\"CAUSAL_PART_NM\"].mode()[0]"
   ]
  },
  {
   "cell_type": "code",
   "execution_count": 15,
   "id": "e2a61771-9828-42c5-959e-92eb3e2cf58b",
   "metadata": {},
   "outputs": [
    {
     "name": "stderr",
     "output_type": "stream",
     "text": [
      "C:\\Users\\vishn\\AppData\\Local\\Temp\\ipykernel_19384\\1617262244.py:1: FutureWarning: A value is trying to be set on a copy of a DataFrame or Series through chained assignment using an inplace method.\n",
      "The behavior will change in pandas 3.0. This inplace method will never work because the intermediate object on which we are setting values always behaves as a copy.\n",
      "\n",
      "For example, when doing 'df[col].method(value, inplace=True)', try using 'df.method({col: value}, inplace=True)' or df[col] = df[col].method(value) instead, to perform the operation inplace on the original object.\n",
      "\n",
      "\n",
      "  data[\"CAUSAL_PART_NM\"].fillna(\"WHEEL ASM-STRG *JET BLACK\",inplace=True)\n"
     ]
    }
   ],
   "source": [
    "data[\"CAUSAL_PART_NM\"].fillna(\"WHEEL ASM-STRG *JET BLACK\",inplace=True)"
   ]
  },
  {
   "cell_type": "code",
   "execution_count": 16,
   "id": "a1f909a9-97ec-4aa2-954e-70e4021fddd3",
   "metadata": {},
   "outputs": [
    {
     "data": {
      "text/html": [
       "<div>\n",
       "<style scoped>\n",
       "    .dataframe tbody tr th:only-of-type {\n",
       "        vertical-align: middle;\n",
       "    }\n",
       "\n",
       "    .dataframe tbody tr th {\n",
       "        vertical-align: top;\n",
       "    }\n",
       "\n",
       "    .dataframe thead th {\n",
       "        text-align: right;\n",
       "    }\n",
       "</style>\n",
       "<table border=\"1\" class=\"dataframe\">\n",
       "  <thead>\n",
       "    <tr style=\"text-align: right;\">\n",
       "      <th></th>\n",
       "      <th>VIN</th>\n",
       "      <th>TRANSACTION_ID</th>\n",
       "      <th>CORRECTION_VERBATIM</th>\n",
       "      <th>CUSTOMER_VERBATIM</th>\n",
       "      <th>REPAIR_DATE</th>\n",
       "      <th>CAUSAL_PART_NM</th>\n",
       "      <th>GLOBAL_LABOR_CODE_DESCRIPTION</th>\n",
       "      <th>PLATFORM</th>\n",
       "      <th>BODY_STYLE</th>\n",
       "      <th>VPPC</th>\n",
       "      <th>...</th>\n",
       "      <th>TRANSMISSION_TRACE_NBR</th>\n",
       "      <th>SRC_TXN_ID</th>\n",
       "      <th>SRC_VER_NBR</th>\n",
       "      <th>TRANSACTION_CNTR</th>\n",
       "      <th>MEDIA_FLAG</th>\n",
       "      <th>VIN_MODL_DESGTR</th>\n",
       "      <th>LINE_SERIES</th>\n",
       "      <th>LAST_KNOWN_DELVRY_TYPE_CD</th>\n",
       "      <th>NON_CAUSAL_PART_QTY</th>\n",
       "      <th>SALES_REGION_CODE</th>\n",
       "    </tr>\n",
       "  </thead>\n",
       "  <tbody>\n",
       "    <tr>\n",
       "      <th>3</th>\n",
       "      <td>3HCFDFEL3SH241701</td>\n",
       "      <td>13021</td>\n",
       "      <td>STEERING WHEEL REPLACEMENT</td>\n",
       "      <td>CUSTOMER STATES THE LETTERING AND FINISH ON TH...</td>\n",
       "      <td>2024-01-04</td>\n",
       "      <td>WHEEL ASM-STRG *JET BLACK</td>\n",
       "      <td>Steering Wheel Replacement</td>\n",
       "      <td>Full-Size Trucks</td>\n",
       "      <td>Crew Cab</td>\n",
       "      <td>T1CCF</td>\n",
       "      <td>...</td>\n",
       "      <td>S1210822CKJX0291</td>\n",
       "      <td>2808892288</td>\n",
       "      <td>6</td>\n",
       "      <td>1</td>\n",
       "      <td>Y</td>\n",
       "      <td>CF10543</td>\n",
       "      <td>1500</td>\n",
       "      <td>10.0</td>\n",
       "      <td>0</td>\n",
       "      <td>1</td>\n",
       "    </tr>\n",
       "  </tbody>\n",
       "</table>\n",
       "<p>1 rows × 52 columns</p>\n",
       "</div>"
      ],
      "text/plain": [
       "                 VIN  TRANSACTION_ID         CORRECTION_VERBATIM  \\\n",
       "3  3HCFDFEL3SH241701           13021  STEERING WHEEL REPLACEMENT   \n",
       "\n",
       "                                   CUSTOMER_VERBATIM REPAIR_DATE  \\\n",
       "3  CUSTOMER STATES THE LETTERING AND FINISH ON TH...  2024-01-04   \n",
       "\n",
       "              CAUSAL_PART_NM GLOBAL_LABOR_CODE_DESCRIPTION          PLATFORM  \\\n",
       "3  WHEEL ASM-STRG *JET BLACK    Steering Wheel Replacement  Full-Size Trucks   \n",
       "\n",
       "  BODY_STYLE   VPPC  ... TRANSMISSION_TRACE_NBR  SRC_TXN_ID SRC_VER_NBR  \\\n",
       "3   Crew Cab  T1CCF  ...       S1210822CKJX0291  2808892288           6   \n",
       "\n",
       "  TRANSACTION_CNTR MEDIA_FLAG VIN_MODL_DESGTR LINE_SERIES  \\\n",
       "3                1          Y         CF10543        1500   \n",
       "\n",
       "  LAST_KNOWN_DELVRY_TYPE_CD  NON_CAUSAL_PART_QTY SALES_REGION_CODE  \n",
       "3                      10.0                    0                 1  \n",
       "\n",
       "[1 rows x 52 columns]"
      ]
     },
     "execution_count": 16,
     "metadata": {},
     "output_type": "execute_result"
    }
   ],
   "source": [
    "data[data[\"PLANT\"].isnull()]"
   ]
  },
  {
   "cell_type": "code",
   "execution_count": 17,
   "id": "e4cdae4b-1ca2-47d8-aa2c-d74f4131d5c8",
   "metadata": {},
   "outputs": [
    {
     "name": "stderr",
     "output_type": "stream",
     "text": [
      "C:\\Users\\vishn\\AppData\\Local\\Temp\\ipykernel_19384\\3885610084.py:1: FutureWarning: A value is trying to be set on a copy of a DataFrame or Series through chained assignment using an inplace method.\n",
      "The behavior will change in pandas 3.0. This inplace method will never work because the intermediate object on which we are setting values always behaves as a copy.\n",
      "\n",
      "For example, when doing 'df[col].method(value, inplace=True)', try using 'df.method({col: value}, inplace=True)' or df[col] = df[col].method(value) instead, to perform the operation inplace on the original object.\n",
      "\n",
      "\n",
      "  data[\"PLANT\"].fillna(data[\"PLANT\"].mode()[0],inplace=True)\n"
     ]
    }
   ],
   "source": [
    "data[\"PLANT\"].fillna(data[\"PLANT\"].mode()[0],inplace=True)"
   ]
  },
  {
   "cell_type": "code",
   "execution_count": 18,
   "id": "594dfe36-b892-4e23-a332-4c898ea09de9",
   "metadata": {},
   "outputs": [
    {
     "data": {
      "text/html": [
       "<div>\n",
       "<style scoped>\n",
       "    .dataframe tbody tr th:only-of-type {\n",
       "        vertical-align: middle;\n",
       "    }\n",
       "\n",
       "    .dataframe tbody tr th {\n",
       "        vertical-align: top;\n",
       "    }\n",
       "\n",
       "    .dataframe thead th {\n",
       "        text-align: right;\n",
       "    }\n",
       "</style>\n",
       "<table border=\"1\" class=\"dataframe\">\n",
       "  <thead>\n",
       "    <tr style=\"text-align: right;\">\n",
       "      <th></th>\n",
       "      <th>VIN</th>\n",
       "      <th>TRANSACTION_ID</th>\n",
       "      <th>CORRECTION_VERBATIM</th>\n",
       "      <th>CUSTOMER_VERBATIM</th>\n",
       "      <th>REPAIR_DATE</th>\n",
       "      <th>CAUSAL_PART_NM</th>\n",
       "      <th>GLOBAL_LABOR_CODE_DESCRIPTION</th>\n",
       "      <th>PLATFORM</th>\n",
       "      <th>BODY_STYLE</th>\n",
       "      <th>VPPC</th>\n",
       "      <th>...</th>\n",
       "      <th>TRANSMISSION_TRACE_NBR</th>\n",
       "      <th>SRC_TXN_ID</th>\n",
       "      <th>SRC_VER_NBR</th>\n",
       "      <th>TRANSACTION_CNTR</th>\n",
       "      <th>MEDIA_FLAG</th>\n",
       "      <th>VIN_MODL_DESGTR</th>\n",
       "      <th>LINE_SERIES</th>\n",
       "      <th>LAST_KNOWN_DELVRY_TYPE_CD</th>\n",
       "      <th>NON_CAUSAL_PART_QTY</th>\n",
       "      <th>SALES_REGION_CODE</th>\n",
       "    </tr>\n",
       "  </thead>\n",
       "  <tbody>\n",
       "    <tr>\n",
       "      <th>16</th>\n",
       "      <td>1HC4Y9EY2MF192148</td>\n",
       "      <td>13026</td>\n",
       "      <td>Steering Wheel Replacement</td>\n",
       "      <td>�������� ������ ����������</td>\n",
       "      <td>2024-01-11</td>\n",
       "      <td>WHEEL ASM-STRG *JET BLACK</td>\n",
       "      <td>Steering Wheel Replacement</td>\n",
       "      <td>Full-Size Trucks</td>\n",
       "      <td>Crew Cab</td>\n",
       "      <td>T1CCH</td>\n",
       "      <td>...</td>\n",
       "      <td>Y0220280MKFX0292</td>\n",
       "      <td>2809489112</td>\n",
       "      <td>2</td>\n",
       "      <td>1</td>\n",
       "      <td>N</td>\n",
       "      <td>CF20743</td>\n",
       "      <td>2500</td>\n",
       "      <td>18.0</td>\n",
       "      <td>0</td>\n",
       "      <td>4</td>\n",
       "    </tr>\n",
       "    <tr>\n",
       "      <th>33</th>\n",
       "      <td>3HCND9ED5SH144160</td>\n",
       "      <td>13027</td>\n",
       "      <td>REPLACED STEERING WHEEL.</td>\n",
       "      <td>Steering wheel strings loose .</td>\n",
       "      <td>2024-01-16</td>\n",
       "      <td>WHEEL ASM-STRG *VERY DARK AT</td>\n",
       "      <td>Steering Wheel Replacement</td>\n",
       "      <td>Full-Size Trucks</td>\n",
       "      <td>Single Cab</td>\n",
       "      <td>T1RCF</td>\n",
       "      <td>...</td>\n",
       "      <td>S2221212CKJX0718</td>\n",
       "      <td>2809421088</td>\n",
       "      <td>4</td>\n",
       "      <td>1</td>\n",
       "      <td>N</td>\n",
       "      <td>CF10703</td>\n",
       "      <td>1500</td>\n",
       "      <td>15.0</td>\n",
       "      <td>0</td>\n",
       "      <td>4</td>\n",
       "    </tr>\n",
       "  </tbody>\n",
       "</table>\n",
       "<p>2 rows × 52 columns</p>\n",
       "</div>"
      ],
      "text/plain": [
       "                  VIN  TRANSACTION_ID         CORRECTION_VERBATIM  \\\n",
       "16  1HC4Y9EY2MF192148           13026  Steering Wheel Replacement   \n",
       "33  3HCND9ED5SH144160           13027    REPLACED STEERING WHEEL.   \n",
       "\n",
       "                 CUSTOMER_VERBATIM REPAIR_DATE                CAUSAL_PART_NM  \\\n",
       "16      �������� ������ ����������  2024-01-11     WHEEL ASM-STRG *JET BLACK   \n",
       "33  Steering wheel strings loose .  2024-01-16  WHEEL ASM-STRG *VERY DARK AT   \n",
       "\n",
       "   GLOBAL_LABOR_CODE_DESCRIPTION          PLATFORM  BODY_STYLE   VPPC  ...  \\\n",
       "16    Steering Wheel Replacement  Full-Size Trucks    Crew Cab  T1CCH  ...   \n",
       "33    Steering Wheel Replacement  Full-Size Trucks  Single Cab  T1RCF  ...   \n",
       "\n",
       "   TRANSMISSION_TRACE_NBR  SRC_TXN_ID SRC_VER_NBR TRANSACTION_CNTR MEDIA_FLAG  \\\n",
       "16       Y0220280MKFX0292  2809489112           2                1          N   \n",
       "33       S2221212CKJX0718  2809421088           4                1          N   \n",
       "\n",
       "   VIN_MODL_DESGTR LINE_SERIES LAST_KNOWN_DELVRY_TYPE_CD  NON_CAUSAL_PART_QTY  \\\n",
       "16         CF20743        2500                      18.0                    0   \n",
       "33         CF10703        1500                      15.0                    0   \n",
       "\n",
       "   SALES_REGION_CODE  \n",
       "16                 4  \n",
       "33                 4  \n",
       "\n",
       "[2 rows x 52 columns]"
      ]
     },
     "execution_count": 18,
     "metadata": {},
     "output_type": "execute_result"
    }
   ],
   "source": [
    "data[data[\"STATE\"].isnull()]"
   ]
  },
  {
   "cell_type": "code",
   "execution_count": 19,
   "id": "090feb53-cefc-4c78-bb62-5d757adceccb",
   "metadata": {},
   "outputs": [
    {
     "name": "stderr",
     "output_type": "stream",
     "text": [
      "C:\\Users\\vishn\\AppData\\Local\\Temp\\ipykernel_19384\\4286253118.py:1: FutureWarning: A value is trying to be set on a copy of a DataFrame or Series through chained assignment using an inplace method.\n",
      "The behavior will change in pandas 3.0. This inplace method will never work because the intermediate object on which we are setting values always behaves as a copy.\n",
      "\n",
      "For example, when doing 'df[col].method(value, inplace=True)', try using 'df.method({col: value}, inplace=True)' or df[col] = df[col].method(value) instead, to perform the operation inplace on the original object.\n",
      "\n",
      "\n",
      "  data[\"STATE\"].fillna(data[\"STATE\"].mode()[0],inplace=True)\n"
     ]
    }
   ],
   "source": [
    "data[\"STATE\"].fillna(data[\"STATE\"].mode()[0],inplace=True)"
   ]
  },
  {
   "cell_type": "code",
   "execution_count": 20,
   "id": "358c45df-2080-4d78-aabb-9213f82771ae",
   "metadata": {},
   "outputs": [
    {
     "name": "stderr",
     "output_type": "stream",
     "text": [
      "C:\\Users\\vishn\\AppData\\Local\\Temp\\ipykernel_19384\\3919817694.py:1: FutureWarning: A value is trying to be set on a copy of a DataFrame or Series through chained assignment using an inplace method.\n",
      "The behavior will change in pandas 3.0. This inplace method will never work because the intermediate object on which we are setting values always behaves as a copy.\n",
      "\n",
      "For example, when doing 'df[col].method(value, inplace=True)', try using 'df.method({col: value}, inplace=True)' or df[col] = df[col].method(value) instead, to perform the operation inplace on the original object.\n",
      "\n",
      "\n",
      "  data[\"REPAIR_DLR_POSTAL_CD\"].fillna(data[\"REPAIR_DLR_POSTAL_CD\"].mode()[0],inplace=True)\n"
     ]
    }
   ],
   "source": [
    "data[\"REPAIR_DLR_POSTAL_CD\"].fillna(data[\"REPAIR_DLR_POSTAL_CD\"].mode()[0],inplace=True)"
   ]
  },
  {
   "cell_type": "code",
   "execution_count": 21,
   "id": "4f15e500-0307-4a89-832f-15b28d1ecb14",
   "metadata": {},
   "outputs": [
    {
     "data": {
      "text/plain": [
       "0     T03.0354\n",
       "1     T03.0354\n",
       "2     T00.0006\n",
       "3     T06.2375\n",
       "4     T06.2375\n",
       "        ...   \n",
       "95    T03.6151\n",
       "96    T00.0008\n",
       "97    T03.6151\n",
       "98    D06.6230\n",
       "99    T03.6151\n",
       "Name: VEH_TEST_GRP, Length: 100, dtype: object"
      ]
     },
     "execution_count": 21,
     "metadata": {},
     "output_type": "execute_result"
    }
   ],
   "source": [
    "data[\"VEH_TEST_GRP\"]"
   ]
  },
  {
   "cell_type": "code",
   "execution_count": 22,
   "id": "e963bee1-76d5-4de5-b69d-cd0b21f52725",
   "metadata": {},
   "outputs": [
    {
     "name": "stderr",
     "output_type": "stream",
     "text": [
      "C:\\Users\\vishn\\AppData\\Local\\Temp\\ipykernel_19384\\76169826.py:1: FutureWarning: A value is trying to be set on a copy of a DataFrame or Series through chained assignment using an inplace method.\n",
      "The behavior will change in pandas 3.0. This inplace method will never work because the intermediate object on which we are setting values always behaves as a copy.\n",
      "\n",
      "For example, when doing 'df[col].method(value, inplace=True)', try using 'df.method({col: value}, inplace=True)' or df[col] = df[col].method(value) instead, to perform the operation inplace on the original object.\n",
      "\n",
      "\n",
      "  data[\"OPTN_FAMLY_CERTIFICATION\"].fillna(\"FE9\",inplace=True)\n"
     ]
    }
   ],
   "source": [
    "data[\"OPTN_FAMLY_CERTIFICATION\"].fillna(\"FE9\",inplace=True)"
   ]
  },
  {
   "cell_type": "code",
   "execution_count": 23,
   "id": "455b78a0-b5da-4626-a555-86c2eb2f312d",
   "metadata": {},
   "outputs": [
    {
     "name": "stderr",
     "output_type": "stream",
     "text": [
      "C:\\Users\\vishn\\AppData\\Local\\Temp\\ipykernel_19384\\4214050660.py:1: FutureWarning: A value is trying to be set on a copy of a DataFrame or Series through chained assignment using an inplace method.\n",
      "The behavior will change in pandas 3.0. This inplace method will never work because the intermediate object on which we are setting values always behaves as a copy.\n",
      "\n",
      "For example, when doing 'df[col].method(value, inplace=True)', try using 'df.method({col: value}, inplace=True)' or df[col] = df[col].method(value) instead, to perform the operation inplace on the original object.\n",
      "\n",
      "\n",
      "  data[\"OPTF_FAMLY_EMISSIOF_SYSTEM\"].fillna(\"FTB\",inplace=True)\n"
     ]
    }
   ],
   "source": [
    "data[\"OPTF_FAMLY_EMISSIOF_SYSTEM\"].fillna(\"FTB\",inplace=True)"
   ]
  },
  {
   "cell_type": "code",
   "execution_count": 24,
   "id": "6b1477ef-c06a-4e2b-b168-fd8e77225137",
   "metadata": {},
   "outputs": [],
   "source": [
    "data.drop([\"CAMPAIGN_NBR\"],axis=1,inplace=True)"
   ]
  },
  {
   "cell_type": "code",
   "execution_count": 25,
   "id": "598dd1ac-95a8-4379-8ed8-0154d8edc21c",
   "metadata": {
    "scrolled": true
   },
   "outputs": [
    {
     "data": {
      "text/plain": [
       "561.1621276595744"
      ]
     },
     "execution_count": 25,
     "metadata": {},
     "output_type": "execute_result"
    }
   ],
   "source": [
    "data[\"TOTALCOST\"].mean()"
   ]
  },
  {
   "cell_type": "code",
   "execution_count": 26,
   "id": "4be372b4-dcaa-4ec4-986d-1f99677fd14f",
   "metadata": {},
   "outputs": [
    {
     "name": "stderr",
     "output_type": "stream",
     "text": [
      "C:\\Users\\vishn\\AppData\\Local\\Temp\\ipykernel_19384\\660624014.py:1: FutureWarning: A value is trying to be set on a copy of a DataFrame or Series through chained assignment using an inplace method.\n",
      "The behavior will change in pandas 3.0. This inplace method will never work because the intermediate object on which we are setting values always behaves as a copy.\n",
      "\n",
      "For example, when doing 'df[col].method(value, inplace=True)', try using 'df.method({col: value}, inplace=True)' or df[col] = df[col].method(value) instead, to perform the operation inplace on the original object.\n",
      "\n",
      "\n",
      "  data[\"TOTALCOST\"].fillna(data[\"TOTALCOST\"].mean(),inplace=True)\n"
     ]
    }
   ],
   "source": [
    "data[\"TOTALCOST\"].fillna(data[\"TOTALCOST\"].mean(),inplace=True)"
   ]
  },
  {
   "cell_type": "code",
   "execution_count": 32,
   "id": "0a22db1e-b06e-42b2-9382-b30dafc81e94",
   "metadata": {},
   "outputs": [
    {
     "name": "stderr",
     "output_type": "stream",
     "text": [
      "C:\\Users\\vishn\\AppData\\Local\\Temp\\ipykernel_19384\\526641670.py:1: UserWarning: Unable to sort modes: '<' not supported between instances of 'int' and 'str'\n",
      "  data[\"ENGINE_TRACE_NBR\"].fillna(data[\"ENGINE_TRACE_NBR\"].mode()[0],inplace=True)\n",
      "C:\\Users\\vishn\\AppData\\Local\\Temp\\ipykernel_19384\\526641670.py:1: FutureWarning: A value is trying to be set on a copy of a DataFrame or Series through chained assignment using an inplace method.\n",
      "The behavior will change in pandas 3.0. This inplace method will never work because the intermediate object on which we are setting values always behaves as a copy.\n",
      "\n",
      "For example, when doing 'df[col].method(value, inplace=True)', try using 'df.method({col: value}, inplace=True)' or df[col] = df[col].method(value) instead, to perform the operation inplace on the original object.\n",
      "\n",
      "\n",
      "  data[\"ENGINE_TRACE_NBR\"].fillna(data[\"ENGINE_TRACE_NBR\"].mode()[0],inplace=True)\n"
     ]
    }
   ],
   "source": [
    "data[\"ENGINE_TRACE_NBR\"].fillna(data[\"ENGINE_TRACE_NBR\"].mode()[0],inplace=True)"
   ]
  },
  {
   "cell_type": "code",
   "execution_count": 40,
   "id": "b8e11b02-dd83-4854-8ece-7f5ff08f32ff",
   "metadata": {},
   "outputs": [
    {
     "name": "stderr",
     "output_type": "stream",
     "text": [
      "C:\\Users\\vishn\\AppData\\Local\\Temp\\ipykernel_19384\\3348710937.py:1: FutureWarning: A value is trying to be set on a copy of a DataFrame or Series through chained assignment using an inplace method.\n",
      "The behavior will change in pandas 3.0. This inplace method will never work because the intermediate object on which we are setting values always behaves as a copy.\n",
      "\n",
      "For example, when doing 'df[col].method(value, inplace=True)', try using 'df.method({col: value}, inplace=True)' or df[col] = df[col].method(value) instead, to perform the operation inplace on the original object.\n",
      "\n",
      "\n",
      "  data[\"LAST_KNOWN_DELVRY_TYPE_CD\"].fillna(data[\"LAST_KNOWN_DELVRY_TYPE_CD\"].mode()[0],inplace=True)\n"
     ]
    }
   ],
   "source": [
    "data[\"LAST_KNOWN_DELVRY_TYPE_CD\"].fillna(data[\"LAST_KNOWN_DELVRY_TYPE_CD\"].mode()[0],inplace=True)"
   ]
  },
  {
   "cell_type": "code",
   "execution_count": 41,
   "id": "eae8d541-2971-4875-a609-0d4b7d6201ad",
   "metadata": {},
   "outputs": [
    {
     "data": {
      "text/plain": [
       "VIN                              False\n",
       "TRANSACTION_ID                   False\n",
       "CORRECTION_VERBATIM              False\n",
       "CUSTOMER_VERBATIM                False\n",
       "REPAIR_DATE                      False\n",
       "CAUSAL_PART_NM                   False\n",
       "GLOBAL_LABOR_CODE_DESCRIPTION    False\n",
       "PLATFORM                         False\n",
       "BODY_STYLE                       False\n",
       "VPPC                             False\n",
       "PLANT                            False\n",
       "BUILD_COUNTRY                    False\n",
       "LAST_KNOWN_DLR_NAME              False\n",
       "LAST_KNOWN_DLR_CITY              False\n",
       "REPAIRING_DEALER_CODE            False\n",
       "DEALER_NAME                      False\n",
       "REPAIR_DLR_CITY                  False\n",
       "STATE                            False\n",
       "DEALER_REGION                    False\n",
       "REPAIR_DLR_POSTAL_CD             False\n",
       "REPAIR_AGE                       False\n",
       "KM                               False\n",
       "COMPLAINT_CD_CSI                 False\n",
       "COMPLAINT_CD                     False\n",
       "VEH_TEST_GRP                     False\n",
       "COUNTRY_SALE_ISO                 False\n",
       "ORD_SELLING_SRC_CD               False\n",
       "OPTN_FAMLY_CERTIFICATION         False\n",
       "OPTF_FAMLY_EMISSIOF_SYSTEM       False\n",
       "GLOBAL_LABOR_CODE                False\n",
       "TRANSACTION_CATEGORY             False\n",
       "REPORTING_COST                   False\n",
       "TOTALCOST                        False\n",
       "LBRCOST                          False\n",
       "ENGINE                           False\n",
       "ENGINE_DESC                      False\n",
       "TRANSMISSION                     False\n",
       "TRANSMISSION_DESC                False\n",
       "ENGINE_SOURCE_PLANT              False\n",
       "ENGINE_TRACE_NBR                 False\n",
       "TRANSMISSION_SOURCE_PLANT        False\n",
       "TRANSMISSION_TRACE_NBR           False\n",
       "SRC_TXN_ID                       False\n",
       "SRC_VER_NBR                      False\n",
       "TRANSACTION_CNTR                 False\n",
       "MEDIA_FLAG                       False\n",
       "VIN_MODL_DESGTR                  False\n",
       "LINE_SERIES                      False\n",
       "LAST_KNOWN_DELVRY_TYPE_CD        False\n",
       "NON_CAUSAL_PART_QTY              False\n",
       "SALES_REGION_CODE                False\n",
       "dtype: bool"
      ]
     },
     "execution_count": 41,
     "metadata": {},
     "output_type": "execute_result"
    }
   ],
   "source": [
    "data.isnull().any()"
   ]
  },
  {
   "cell_type": "code",
   "execution_count": 64,
   "id": "ce81ea2a-c898-46fa-ac5f-a00e3012fff5",
   "metadata": {},
   "outputs": [
    {
     "data": {
      "image/png": "[encoded data removed]",
      "text/plain": [
       "<Figure size 640x480 with 1 Axes>"
      ]
     },
     "metadata": {},
     "output_type": "display_data"
    }
   ],
   "source": [
    "plt.boxplot(data[\"TOTALCOST\"])\n",
    "plt.savefig(\"Bloxplot.png\")"
   ]
  },
  {
   "cell_type": "code",
   "execution_count": 43,
   "id": "6a26fd95-0c77-4652-a685-5cbc892adb18",
   "metadata": {},
   "outputs": [],
   "source": [
    "# Remove outlier"
   ]
  },
  {
   "cell_type": "code",
   "execution_count": 44,
   "id": "d01db18e-e658-4645-8995-59f9c3e07d57",
   "metadata": {},
   "outputs": [
    {
     "data": {
      "text/plain": [
       "2"
      ]
     },
     "execution_count": 44,
     "metadata": {},
     "output_type": "execute_result"
    }
   ],
   "source": [
    "data[\"TOTALCOST\"].idxmax()"
   ]
  },
  {
   "cell_type": "code",
   "execution_count": 45,
   "id": "68d11724-ef86-4b64-9e33-dd46012818e4",
   "metadata": {},
   "outputs": [],
   "source": [
    "# mean \n",
    "mean_total_cost = data[\"TOTALCOST\"].mean()\n",
    "\n",
    "# Replace outlier with mean\n",
    "data.loc[2, \"TOTALCOST\"] = mean_total_cost"
   ]
  },
  {
   "cell_type": "code",
   "execution_count": 46,
   "id": "910dd020-5b8a-45a7-982c-8113bf0fccfd",
   "metadata": {},
   "outputs": [
    {
     "data": {
      "text/html": [
       "<div>\n",
       "<style scoped>\n",
       "    .dataframe tbody tr th:only-of-type {\n",
       "        vertical-align: middle;\n",
       "    }\n",
       "\n",
       "    .dataframe tbody tr th {\n",
       "        vertical-align: top;\n",
       "    }\n",
       "\n",
       "    .dataframe thead th {\n",
       "        text-align: right;\n",
       "    }\n",
       "</style>\n",
       "<table border=\"1\" class=\"dataframe\">\n",
       "  <thead>\n",
       "    <tr style=\"text-align: right;\">\n",
       "      <th></th>\n",
       "      <th>VIN</th>\n",
       "      <th>TRANSACTION_ID</th>\n",
       "      <th>CORRECTION_VERBATIM</th>\n",
       "      <th>CUSTOMER_VERBATIM</th>\n",
       "      <th>REPAIR_DATE</th>\n",
       "      <th>CAUSAL_PART_NM</th>\n",
       "      <th>GLOBAL_LABOR_CODE_DESCRIPTION</th>\n",
       "      <th>PLATFORM</th>\n",
       "      <th>BODY_STYLE</th>\n",
       "      <th>VPPC</th>\n",
       "      <th>...</th>\n",
       "      <th>TRANSMISSION_TRACE_NBR</th>\n",
       "      <th>SRC_TXN_ID</th>\n",
       "      <th>SRC_VER_NBR</th>\n",
       "      <th>TRANSACTION_CNTR</th>\n",
       "      <th>MEDIA_FLAG</th>\n",
       "      <th>VIN_MODL_DESGTR</th>\n",
       "      <th>LINE_SERIES</th>\n",
       "      <th>LAST_KNOWN_DELVRY_TYPE_CD</th>\n",
       "      <th>NON_CAUSAL_PART_QTY</th>\n",
       "      <th>SALES_REGION_CODE</th>\n",
       "    </tr>\n",
       "  </thead>\n",
       "  <tbody>\n",
       "    <tr>\n",
       "      <th>0</th>\n",
       "      <td>3HCFDDE89SH220903</td>\n",
       "      <td>13021</td>\n",
       "      <td>REPLACED STEERING WHEEL NOW OKAY</td>\n",
       "      <td>STEERING WHEEL COMING APART</td>\n",
       "      <td>2024-01-02</td>\n",
       "      <td>WHEEL ASM-STRG *JET BLACK</td>\n",
       "      <td>Steering Wheel Replacement</td>\n",
       "      <td>Full-Size Trucks</td>\n",
       "      <td>Crew Cab</td>\n",
       "      <td>T1CCF</td>\n",
       "      <td>...</td>\n",
       "      <td>S2210121CNJX0941</td>\n",
       "      <td>2808908219</td>\n",
       "      <td>6</td>\n",
       "      <td>1</td>\n",
       "      <td>N</td>\n",
       "      <td>CF10543</td>\n",
       "      <td>1500</td>\n",
       "      <td>21.0</td>\n",
       "      <td>0</td>\n",
       "      <td>1</td>\n",
       "    </tr>\n",
       "    <tr>\n",
       "      <th>1</th>\n",
       "      <td>1HRFFEE8XSZ230636</td>\n",
       "      <td>13028</td>\n",
       "      <td>CHECKED - FOUND DTC'S U0229 - U1530 SET IN BCM...</td>\n",
       "      <td>CUSTOMER STATES HEATED STEERING WHEEL INOP</td>\n",
       "      <td>2024-01-03</td>\n",
       "      <td>MODULE ASM-STRG WHL HT CONT</td>\n",
       "      <td>Heated Steering Wheel Module Replacement</td>\n",
       "      <td>Full-Size Trucks</td>\n",
       "      <td>Crew Cab</td>\n",
       "      <td>T1CGF</td>\n",
       "      <td>...</td>\n",
       "      <td>R2210881CNJX0287</td>\n",
       "      <td>2808841910</td>\n",
       "      <td>6</td>\n",
       "      <td>1</td>\n",
       "      <td>Y</td>\n",
       "      <td>TF10543</td>\n",
       "      <td>1500</td>\n",
       "      <td>10.0</td>\n",
       "      <td>0</td>\n",
       "      <td>1</td>\n",
       "    </tr>\n",
       "    <tr>\n",
       "      <th>2</th>\n",
       "      <td>1HYKSMRK6SZ000990</td>\n",
       "      <td>13035</td>\n",
       "      <td>APPROVED 4.9(OLH) FOR ADDED DIAGNOSTICS WITH T...</td>\n",
       "      <td>OWNER REPORTS: THE SUPER CRUISE BAR ON THE STE...</td>\n",
       "      <td>2024-01-04</td>\n",
       "      <td>WHEEL ASM-STRG *BACKEN BLACKK</td>\n",
       "      <td>Steering Wheel Replacement</td>\n",
       "      <td>BEV</td>\n",
       "      <td>4 Door Utility</td>\n",
       "      <td>L233-LSOP</td>\n",
       "      <td>...</td>\n",
       "      <td>21210129IKBP0429</td>\n",
       "      <td>2809979441</td>\n",
       "      <td>4</td>\n",
       "      <td>1</td>\n",
       "      <td>Y</td>\n",
       "      <td>6MB26</td>\n",
       "      <td>Lux-1</td>\n",
       "      <td>10.0</td>\n",
       "      <td>0</td>\n",
       "      <td>1</td>\n",
       "    </tr>\n",
       "    <tr>\n",
       "      <th>3</th>\n",
       "      <td>3HCFDFEL3SH241701</td>\n",
       "      <td>13021</td>\n",
       "      <td>STEERING WHEEL REPLACEMENT</td>\n",
       "      <td>CUSTOMER STATES THE LETTERING AND FINISH ON TH...</td>\n",
       "      <td>2024-01-04</td>\n",
       "      <td>WHEEL ASM-STRG *JET BLACK</td>\n",
       "      <td>Steering Wheel Replacement</td>\n",
       "      <td>Full-Size Trucks</td>\n",
       "      <td>Crew Cab</td>\n",
       "      <td>T1CCF</td>\n",
       "      <td>...</td>\n",
       "      <td>S1210822CKJX0291</td>\n",
       "      <td>2808892288</td>\n",
       "      <td>6</td>\n",
       "      <td>1</td>\n",
       "      <td>Y</td>\n",
       "      <td>CF10543</td>\n",
       "      <td>1500</td>\n",
       "      <td>10.0</td>\n",
       "      <td>0</td>\n",
       "      <td>1</td>\n",
       "    </tr>\n",
       "    <tr>\n",
       "      <th>4</th>\n",
       "      <td>1HRFFHEL1RZ181474</td>\n",
       "      <td>13021</td>\n",
       "      <td>REPLACED STEERING MESSAGE NO LONGER DISPLAYED</td>\n",
       "      <td>C/S: CUSTOMER STATES THE SERVICE DRIVER ASSIST...</td>\n",
       "      <td>2024-01-05</td>\n",
       "      <td>WHEEL ASM-STRG *JET BLACK</td>\n",
       "      <td>Steering Wheel Replacement</td>\n",
       "      <td>Full-Size Trucks</td>\n",
       "      <td>Crew Cab</td>\n",
       "      <td>T1CGF</td>\n",
       "      <td>...</td>\n",
       "      <td>R2212982CKJX0282</td>\n",
       "      <td>2808901882</td>\n",
       "      <td>8</td>\n",
       "      <td>1</td>\n",
       "      <td>N</td>\n",
       "      <td>TF10543</td>\n",
       "      <td>1500</td>\n",
       "      <td>10.0</td>\n",
       "      <td>0</td>\n",
       "      <td>1</td>\n",
       "    </tr>\n",
       "    <tr>\n",
       "      <th>...</th>\n",
       "      <td>...</td>\n",
       "      <td>...</td>\n",
       "      <td>...</td>\n",
       "      <td>...</td>\n",
       "      <td>...</td>\n",
       "      <td>...</td>\n",
       "      <td>...</td>\n",
       "      <td>...</td>\n",
       "      <td>...</td>\n",
       "      <td>...</td>\n",
       "      <td>...</td>\n",
       "      <td>...</td>\n",
       "      <td>...</td>\n",
       "      <td>...</td>\n",
       "      <td>...</td>\n",
       "      <td>...</td>\n",
       "      <td>...</td>\n",
       "      <td>...</td>\n",
       "      <td>...</td>\n",
       "      <td>...</td>\n",
       "      <td>...</td>\n",
       "    </tr>\n",
       "    <tr>\n",
       "      <th>95</th>\n",
       "      <td>1HYKNHRS6MZ221833</td>\n",
       "      <td>13041</td>\n",
       "      <td>REPLACED STEERING WHEEL COMPLETEDLOP 0130 TIME .4</td>\n",
       "      <td>CUSTOMER STATES that the steering is very tigh...</td>\n",
       "      <td>2024-02-07</td>\n",
       "      <td>WHEEL ASM-STRG *BLACK</td>\n",
       "      <td>Steering Wheel Replacement</td>\n",
       "      <td>Global Crossover Vehicles</td>\n",
       "      <td>4 Door Utility</td>\n",
       "      <td>C1UL</td>\n",
       "      <td>...</td>\n",
       "      <td>22222280KKBP0890</td>\n",
       "      <td>2820784987</td>\n",
       "      <td>4</td>\n",
       "      <td>1</td>\n",
       "      <td>Y</td>\n",
       "      <td>6NJ26</td>\n",
       "      <td>Sport</td>\n",
       "      <td>15.0</td>\n",
       "      <td>1</td>\n",
       "      <td>1</td>\n",
       "    </tr>\n",
       "    <tr>\n",
       "      <th>96</th>\n",
       "      <td>1HYKSSRL4SZ003381</td>\n",
       "      <td>13048</td>\n",
       "      <td>replace steering wheel</td>\n",
       "      <td>cs driver assistance warning light is coming o...</td>\n",
       "      <td>2024-02-07</td>\n",
       "      <td>WHEEL ASM-STRG *BACKEN BLACKK</td>\n",
       "      <td>Steering Wheel Replacement</td>\n",
       "      <td>BEV</td>\n",
       "      <td>4 Door Utility</td>\n",
       "      <td>L233-LSOP</td>\n",
       "      <td>...</td>\n",
       "      <td>21210129IKBP0429</td>\n",
       "      <td>2822282187</td>\n",
       "      <td>6</td>\n",
       "      <td>1</td>\n",
       "      <td>N</td>\n",
       "      <td>6MB26</td>\n",
       "      <td>1500</td>\n",
       "      <td>10.0</td>\n",
       "      <td>0</td>\n",
       "      <td>1</td>\n",
       "    </tr>\n",
       "    <tr>\n",
       "      <th>97</th>\n",
       "      <td>1HKKNXLS3SZ128369</td>\n",
       "      <td>13044</td>\n",
       "      <td>REPLACE STEERING WHEEL PRA 496735300000</td>\n",
       "      <td>CUSTOMER STATESCUSTOMER STATES VEHICLE STEERIN...</td>\n",
       "      <td>2024-02-07</td>\n",
       "      <td>WHEEL ASM-STRG *BLACK</td>\n",
       "      <td>Steering Wheel Replacement</td>\n",
       "      <td>Crossover SUV</td>\n",
       "      <td>4 Door Utility</td>\n",
       "      <td>C1UG</td>\n",
       "      <td>...</td>\n",
       "      <td>21222222SKBP0119</td>\n",
       "      <td>2822042248</td>\n",
       "      <td>4</td>\n",
       "      <td>1</td>\n",
       "      <td>N</td>\n",
       "      <td>TNN26</td>\n",
       "      <td>Denali</td>\n",
       "      <td>10.0</td>\n",
       "      <td>0</td>\n",
       "      <td>1</td>\n",
       "    </tr>\n",
       "    <tr>\n",
       "      <th>98</th>\n",
       "      <td>1HC4WLE78RF260518</td>\n",
       "      <td>13045</td>\n",
       "      <td>REMOVED STEERING WHEEL AND DISASSEMBLED AND FO...</td>\n",
       "      <td>CUSTOMER STATES THERE IS CLICKING TYPE NOISE C...</td>\n",
       "      <td>2024-02-07</td>\n",
       "      <td>WHEEL ASM-STRG *JET BLACK</td>\n",
       "      <td>Steering Wheel Replacement</td>\n",
       "      <td>Full-Size Trucks</td>\n",
       "      <td>Crew Cab</td>\n",
       "      <td>T1CCH</td>\n",
       "      <td>...</td>\n",
       "      <td>Y0212811MRFX0180</td>\n",
       "      <td>2820879999</td>\n",
       "      <td>6</td>\n",
       "      <td>1</td>\n",
       "      <td>N</td>\n",
       "      <td>CC20943</td>\n",
       "      <td>2500</td>\n",
       "      <td>14.0</td>\n",
       "      <td>0</td>\n",
       "      <td>1</td>\n",
       "    </tr>\n",
       "    <tr>\n",
       "      <th>99</th>\n",
       "      <td>1HKKNXLS8MZ121378</td>\n",
       "      <td>13041</td>\n",
       "      <td>R&amp;R steering wheel for bad stitching. -returne...</td>\n",
       "      <td>11BUZ MINOR ELECTRICAL CUST STATES STITCHING C...</td>\n",
       "      <td>2024-02-07</td>\n",
       "      <td>WHEEL ASM-STRG *DARK GALVANIE</td>\n",
       "      <td>Steering Wheel Replacement</td>\n",
       "      <td>Crossover SUV</td>\n",
       "      <td>4 Door Utility</td>\n",
       "      <td>C1UG</td>\n",
       "      <td>...</td>\n",
       "      <td>22202890KKBP2894</td>\n",
       "      <td>2820727781</td>\n",
       "      <td>4</td>\n",
       "      <td>1</td>\n",
       "      <td>Y</td>\n",
       "      <td>TNN26</td>\n",
       "      <td>Denali</td>\n",
       "      <td>10.0</td>\n",
       "      <td>0</td>\n",
       "      <td>1</td>\n",
       "    </tr>\n",
       "  </tbody>\n",
       "</table>\n",
       "<p>100 rows × 51 columns</p>\n",
       "</div>"
      ],
      "text/plain": [
       "                  VIN  TRANSACTION_ID  \\\n",
       "0   3HCFDDE89SH220903           13021   \n",
       "1   1HRFFEE8XSZ230636           13028   \n",
       "2   1HYKSMRK6SZ000990           13035   \n",
       "3   3HCFDFEL3SH241701           13021   \n",
       "4   1HRFFHEL1RZ181474           13021   \n",
       "..                ...             ...   \n",
       "95  1HYKNHRS6MZ221833           13041   \n",
       "96  1HYKSSRL4SZ003381           13048   \n",
       "97  1HKKNXLS3SZ128369           13044   \n",
       "98  1HC4WLE78RF260518           13045   \n",
       "99  1HKKNXLS8MZ121378           13041   \n",
       "\n",
       "                                  CORRECTION_VERBATIM  \\\n",
       "0                    REPLACED STEERING WHEEL NOW OKAY   \n",
       "1   CHECKED - FOUND DTC'S U0229 - U1530 SET IN BCM...   \n",
       "2   APPROVED 4.9(OLH) FOR ADDED DIAGNOSTICS WITH T...   \n",
       "3                          STEERING WHEEL REPLACEMENT   \n",
       "4       REPLACED STEERING MESSAGE NO LONGER DISPLAYED   \n",
       "..                                                ...   \n",
       "95  REPLACED STEERING WHEEL COMPLETEDLOP 0130 TIME .4   \n",
       "96                             replace steering wheel   \n",
       "97            REPLACE STEERING WHEEL PRA 496735300000   \n",
       "98  REMOVED STEERING WHEEL AND DISASSEMBLED AND FO...   \n",
       "99  R&R steering wheel for bad stitching. -returne...   \n",
       "\n",
       "                                    CUSTOMER_VERBATIM REPAIR_DATE  \\\n",
       "0                         STEERING WHEEL COMING APART  2024-01-02   \n",
       "1          CUSTOMER STATES HEATED STEERING WHEEL INOP  2024-01-03   \n",
       "2   OWNER REPORTS: THE SUPER CRUISE BAR ON THE STE...  2024-01-04   \n",
       "3   CUSTOMER STATES THE LETTERING AND FINISH ON TH...  2024-01-04   \n",
       "4   C/S: CUSTOMER STATES THE SERVICE DRIVER ASSIST...  2024-01-05   \n",
       "..                                                ...         ...   \n",
       "95  CUSTOMER STATES that the steering is very tigh...  2024-02-07   \n",
       "96  cs driver assistance warning light is coming o...  2024-02-07   \n",
       "97  CUSTOMER STATESCUSTOMER STATES VEHICLE STEERIN...  2024-02-07   \n",
       "98  CUSTOMER STATES THERE IS CLICKING TYPE NOISE C...  2024-02-07   \n",
       "99  11BUZ MINOR ELECTRICAL CUST STATES STITCHING C...  2024-02-07   \n",
       "\n",
       "                   CAUSAL_PART_NM             GLOBAL_LABOR_CODE_DESCRIPTION  \\\n",
       "0       WHEEL ASM-STRG *JET BLACK                Steering Wheel Replacement   \n",
       "1     MODULE ASM-STRG WHL HT CONT  Heated Steering Wheel Module Replacement   \n",
       "2   WHEEL ASM-STRG *BACKEN BLACKK                Steering Wheel Replacement   \n",
       "3       WHEEL ASM-STRG *JET BLACK                Steering Wheel Replacement   \n",
       "4       WHEEL ASM-STRG *JET BLACK                Steering Wheel Replacement   \n",
       "..                            ...                                       ...   \n",
       "95          WHEEL ASM-STRG *BLACK                Steering Wheel Replacement   \n",
       "96  WHEEL ASM-STRG *BACKEN BLACKK                Steering Wheel Replacement   \n",
       "97          WHEEL ASM-STRG *BLACK                Steering Wheel Replacement   \n",
       "98      WHEEL ASM-STRG *JET BLACK                Steering Wheel Replacement   \n",
       "99  WHEEL ASM-STRG *DARK GALVANIE                Steering Wheel Replacement   \n",
       "\n",
       "                     PLATFORM      BODY_STYLE       VPPC  ...  \\\n",
       "0            Full-Size Trucks        Crew Cab      T1CCF  ...   \n",
       "1            Full-Size Trucks        Crew Cab      T1CGF  ...   \n",
       "2                         BEV  4 Door Utility  L233-LSOP  ...   \n",
       "3            Full-Size Trucks        Crew Cab      T1CCF  ...   \n",
       "4            Full-Size Trucks        Crew Cab      T1CGF  ...   \n",
       "..                        ...             ...        ...  ...   \n",
       "95  Global Crossover Vehicles  4 Door Utility       C1UL  ...   \n",
       "96                        BEV  4 Door Utility  L233-LSOP  ...   \n",
       "97              Crossover SUV  4 Door Utility       C1UG  ...   \n",
       "98           Full-Size Trucks        Crew Cab      T1CCH  ...   \n",
       "99              Crossover SUV  4 Door Utility       C1UG  ...   \n",
       "\n",
       "   TRANSMISSION_TRACE_NBR  SRC_TXN_ID SRC_VER_NBR TRANSACTION_CNTR MEDIA_FLAG  \\\n",
       "0        S2210121CNJX0941  2808908219           6                1          N   \n",
       "1        R2210881CNJX0287  2808841910           6                1          Y   \n",
       "2        21210129IKBP0429  2809979441           4                1          Y   \n",
       "3        S1210822CKJX0291  2808892288           6                1          Y   \n",
       "4        R2212982CKJX0282  2808901882           8                1          N   \n",
       "..                    ...         ...         ...              ...        ...   \n",
       "95       22222280KKBP0890  2820784987           4                1          Y   \n",
       "96       21210129IKBP0429  2822282187           6                1          N   \n",
       "97       21222222SKBP0119  2822042248           4                1          N   \n",
       "98       Y0212811MRFX0180  2820879999           6                1          N   \n",
       "99       22202890KKBP2894  2820727781           4                1          Y   \n",
       "\n",
       "   VIN_MODL_DESGTR LINE_SERIES LAST_KNOWN_DELVRY_TYPE_CD  NON_CAUSAL_PART_QTY  \\\n",
       "0          CF10543        1500                      21.0                    0   \n",
       "1          TF10543        1500                      10.0                    0   \n",
       "2            6MB26       Lux-1                      10.0                    0   \n",
       "3          CF10543        1500                      10.0                    0   \n",
       "4          TF10543        1500                      10.0                    0   \n",
       "..             ...         ...                       ...                  ...   \n",
       "95           6NJ26       Sport                      15.0                    1   \n",
       "96           6MB26        1500                      10.0                    0   \n",
       "97           TNN26      Denali                      10.0                    0   \n",
       "98         CC20943        2500                      14.0                    0   \n",
       "99           TNN26      Denali                      10.0                    0   \n",
       "\n",
       "   SALES_REGION_CODE  \n",
       "0                  1  \n",
       "1                  1  \n",
       "2                  1  \n",
       "3                  1  \n",
       "4                  1  \n",
       "..               ...  \n",
       "95                 1  \n",
       "96                 1  \n",
       "97                 1  \n",
       "98                 1  \n",
       "99                 1  \n",
       "\n",
       "[100 rows x 51 columns]"
      ]
     },
     "execution_count": 46,
     "metadata": {},
     "output_type": "execute_result"
    }
   ],
   "source": [
    "data"
   ]
  },
  {
   "cell_type": "code",
   "execution_count": 47,
   "id": "4fbfbc4b-581b-4ea6-9098-e12bb1735ab9",
   "metadata": {},
   "outputs": [
    {
     "name": "stdout",
     "output_type": "stream",
     "text": [
      "TRANSACTION_CNTR            1\n",
      "COMPLAINT_CD_CSI            1\n",
      "SALES_REGION_CODE           2\n",
      "MEDIA_FLAG                  2\n",
      "TRANSACTION_CATEGORY        2\n",
      "NON_CAUSAL_PART_QTY         2\n",
      "DEALER_REGION               2\n",
      "OPTN_FAMLY_CERTIFICATION    3\n",
      "BUILD_COUNTRY               3\n",
      "GLOBAL_LABOR_CODE           4\n",
      "dtype: int64\n"
     ]
    }
   ],
   "source": [
    "low_variance = data.nunique().sort_values()\n",
    "print(low_variance.head(10)) \n"
   ]
  },
  {
   "cell_type": "code",
   "execution_count": 50,
   "id": "edbded99-e751-4dfc-bc87-f13087c2251c",
   "metadata": {
    "scrolled": true
   },
   "outputs": [
    {
     "data": {
      "text/plain": [
       "Index(['VIN', 'TRANSACTION_ID', 'CORRECTION_VERBATIM', 'CUSTOMER_VERBATIM',\n",
       "       'REPAIR_DATE', 'CAUSAL_PART_NM', 'GLOBAL_LABOR_CODE_DESCRIPTION',\n",
       "       'PLATFORM', 'BODY_STYLE', 'VPPC', 'PLANT', 'BUILD_COUNTRY',\n",
       "       'LAST_KNOWN_DLR_NAME', 'LAST_KNOWN_DLR_CITY', 'REPAIRING_DEALER_CODE',\n",
       "       'DEALER_NAME', 'REPAIR_DLR_CITY', 'STATE', 'DEALER_REGION',\n",
       "       'REPAIR_DLR_POSTAL_CD', 'REPAIR_AGE', 'KM', 'COMPLAINT_CD_CSI',\n",
       "       'COMPLAINT_CD', 'VEH_TEST_GRP', 'COUNTRY_SALE_ISO',\n",
       "       'ORD_SELLING_SRC_CD', 'OPTN_FAMLY_CERTIFICATION',\n",
       "       'OPTF_FAMLY_EMISSIOF_SYSTEM', 'GLOBAL_LABOR_CODE',\n",
       "       'TRANSACTION_CATEGORY', 'REPORTING_COST', 'TOTALCOST', 'LBRCOST',\n",
       "       'ENGINE', 'ENGINE_DESC', 'TRANSMISSION', 'TRANSMISSION_DESC',\n",
       "       'ENGINE_SOURCE_PLANT', 'ENGINE_TRACE_NBR', 'TRANSMISSION_SOURCE_PLANT',\n",
       "       'TRANSMISSION_TRACE_NBR', 'SRC_TXN_ID', 'SRC_VER_NBR',\n",
       "       'TRANSACTION_CNTR', 'MEDIA_FLAG', 'VIN_MODL_DESGTR', 'LINE_SERIES',\n",
       "       'LAST_KNOWN_DELVRY_TYPE_CD', 'NON_CAUSAL_PART_QTY',\n",
       "       'SALES_REGION_CODE'],\n",
       "      dtype='object')"
      ]
     },
     "execution_count": 50,
     "metadata": {},
     "output_type": "execute_result"
    }
   ],
   "source": [
    "data.columns"
   ]
  },
  {
   "cell_type": "code",
   "execution_count": null,
   "id": "8063ab80-ede0-454b-a3d6-8b817d722468",
   "metadata": {},
   "outputs": [],
   "source": [
    "# Top 5 Critical Columns"
   ]
  },
  {
   "cell_type": "markdown",
   "id": "a3250bfd-ab19-411e-ad8c-a22442391b35",
   "metadata": {},
   "source": [
    "| Column Name                     | Why It's Critical                                                                |\n",
    "| ------------------------------- | -------------------------------------------------------------------------------- |\n",
    "| `CUSTOMER_VERBATIM`             | Contains raw customer complaints—used to detect recurring product/service issues |\n",
    "| `CAUSAL_PART_NM`                | Indicates failed parts—critical for product improvement and supply chain focus   |\n",
    "| `TOTALCOST`                     | Reflects repair cost—essential for cost analysis and reduction strategies        |\n",
    "| `GLOBAL_LABOR_CODE_DESCRIPTION` | Tells what kind of repair was done—important for operational optimization        |\n",
    "| `PLATFORM`                      | Ties issues to specific vehicle types—helps in identifying platform-level issues |\n"
   ]
  },
  {
   "cell_type": "code",
   "execution_count": 53,
   "id": "3daf4ac0-b062-4b79-a77a-15fee5a7b30a",
   "metadata": {},
   "outputs": [],
   "source": [
    "import sys\n",
    "import warnings\n",
    "\n",
    "if not sys.warnoptions:\n",
    "    warnings.simplefilter(\"ignore\")"
   ]
  },
  {
   "cell_type": "code",
   "execution_count": null,
   "id": "87cad04e-3d33-47bd-aca1-5fab44fa3331",
   "metadata": {},
   "outputs": [],
   "source": [
    "# Visualization"
   ]
  },
  {
   "cell_type": "code",
   "execution_count": 68,
   "id": "fe5a6b32-9c7d-4ac4-b47b-a7474c18657b",
   "metadata": {},
   "outputs": [
    {
     "data": {
      "image/png": "[encoded data removed]",
      "text/plain": [
       "<Figure size 1000x600 with 1 Axes>"
      ]
     },
     "metadata": {},
     "output_type": "display_data"
    }
   ],
   "source": [
    "top_parts = data['CAUSAL_PART_NM'].value_counts().nlargest(10)\n",
    "\n",
    "plt.figure(figsize=(10, 6))\n",
    "sns.barplot(x=top_parts.values, y=top_parts.index, palette=\"Blues_d\")\n",
    "plt.title(\"Top 10 Most Frequently Failing Parts\")\n",
    "plt.xlabel(\"Number of Failures\")\n",
    "plt.ylabel(\"Part Name\")\n",
    "plt.savefig(\"Barplot.png\")\n",
    "plt.show()\n"
   ]
  },
  {
   "cell_type": "code",
   "execution_count": 66,
   "id": "9f23fc96-5266-4e78-8791-24b7b7493b97",
   "metadata": {},
   "outputs": [
    {
     "data": {
      "image/png": "[encoded data removed]",
      "text/plain": [
       "<Figure size 1200x600 with 1 Axes>"
      ]
     },
     "metadata": {},
     "output_type": "display_data"
    }
   ],
   "source": [
    "plt.figure(figsize=(12, 6))\n",
    "sns.boxplot(data=data, x='PLATFORM', y='TOTALCOST')\n",
    "plt.xticks(rotation=45)\n",
    "plt.title(\"Repair Cost Distribution by Vehicle Platform\")\n",
    "plt.xlabel(\"Platform\")\n",
    "plt.ylabel(\"Total Cost\")\n",
    "plt.tight_layout()\n",
    "plt.savefig(\"Bloxplot on Cost distribution, Vehicale.png\")\n",
    "plt.show()"
   ]
  },
  {
   "cell_type": "code",
   "execution_count": 67,
   "id": "8144daee-1733-4777-81ae-c89a0a19c979",
   "metadata": {},
   "outputs": [
    {
     "data": {
      "image/png": "[encoded data removed]",
      "text/plain": [
       "<Figure size 1000x500 with 1 Axes>"
      ]
     },
     "metadata": {},
     "output_type": "display_data"
    }
   ],
   "source": [
    "plt.figure(figsize=(10, 5))\n",
    "sns.countplot(data=data, y='GLOBAL_LABOR_CODE_DESCRIPTION', order=data['GLOBAL_LABOR_CODE_DESCRIPTION'].value_counts().index, palette=\"viridis\")\n",
    "plt.title(\"Frequency of Labor Code Descriptions\")\n",
    "plt.xlabel(\"Count\")\n",
    "plt.ylabel(\"Repair Type\")\n",
    "plt.savefig(\"Bar with Labor Feq.png\")\n",
    "plt.show()\n"
   ]
  },
  {
   "cell_type": "code",
   "execution_count": null,
   "id": "beccb6a2-11bf-4033-bb67-5399e45e5b3c",
   "metadata": {},
   "outputs": [],
   "source": []
  },
  {
   "cell_type": "code",
   "execution_count": 63,
   "id": "33e0946a-144a-4504-bf74-06c6b5400f3a",
   "metadata": {},
   "outputs": [
    {
     "data": {
      "text/html": [
       "<div>\n",
       "<style scoped>\n",
       "    .dataframe tbody tr th:only-of-type {\n",
       "        vertical-align: middle;\n",
       "    }\n",
       "\n",
       "    .dataframe tbody tr th {\n",
       "        vertical-align: top;\n",
       "    }\n",
       "\n",
       "    .dataframe thead th {\n",
       "        text-align: right;\n",
       "    }\n",
       "</style>\n",
       "<table border=\"1\" class=\"dataframe\">\n",
       "  <thead>\n",
       "    <tr style=\"text-align: right;\">\n",
       "      <th></th>\n",
       "      <th>CUSTOMER_VERBATIM</th>\n",
       "      <th>CORRECTION_VERBATIM</th>\n",
       "      <th>ALL_TAGS</th>\n",
       "    </tr>\n",
       "  </thead>\n",
       "  <tbody>\n",
       "    <tr>\n",
       "      <th>0</th>\n",
       "      <td>steering wheel coming apart</td>\n",
       "      <td>replaced steering wheel now okay</td>\n",
       "      <td>[component replaced, steering issue]</td>\n",
       "    </tr>\n",
       "    <tr>\n",
       "      <th>1</th>\n",
       "      <td>customer states heated steering wheel inop</td>\n",
       "      <td>checked - found dtc's u0229 - u1530 set in bcm...</td>\n",
       "      <td>[module involved, heating issue, component rep...</td>\n",
       "    </tr>\n",
       "    <tr>\n",
       "      <th>2</th>\n",
       "      <td>owner reports: the super cruise bar on the ste...</td>\n",
       "      <td>approved 4.9(olh) for added diagnostics with t...</td>\n",
       "      <td>[module involved, component replaced, steering...</td>\n",
       "    </tr>\n",
       "    <tr>\n",
       "      <th>3</th>\n",
       "      <td>customer states the lettering and finish on th...</td>\n",
       "      <td>steering wheel replacement</td>\n",
       "      <td>[component replaced, steering issue]</td>\n",
       "    </tr>\n",
       "    <tr>\n",
       "      <th>4</th>\n",
       "      <td>c/s: customer states the service driver assist...</td>\n",
       "      <td>replaced steering message no longer displayed</td>\n",
       "      <td>[component replaced, steering issue]</td>\n",
       "    </tr>\n",
       "  </tbody>\n",
       "</table>\n",
       "</div>"
      ],
      "text/plain": [
       "                                   CUSTOMER_VERBATIM  \\\n",
       "0                        steering wheel coming apart   \n",
       "1         customer states heated steering wheel inop   \n",
       "2  owner reports: the super cruise bar on the ste...   \n",
       "3  customer states the lettering and finish on th...   \n",
       "4  c/s: customer states the service driver assist...   \n",
       "\n",
       "                                 CORRECTION_VERBATIM  \\\n",
       "0                   replaced steering wheel now okay   \n",
       "1  checked - found dtc's u0229 - u1530 set in bcm...   \n",
       "2  approved 4.9(olh) for added diagnostics with t...   \n",
       "3                         steering wheel replacement   \n",
       "4      replaced steering message no longer displayed   \n",
       "\n",
       "                                            ALL_TAGS  \n",
       "0               [component replaced, steering issue]  \n",
       "1  [module involved, heating issue, component rep...  \n",
       "2  [module involved, component replaced, steering...  \n",
       "3               [component replaced, steering issue]  \n",
       "4               [component replaced, steering issue]  "
      ]
     },
     "execution_count": 63,
     "metadata": {},
     "output_type": "execute_result"
    }
   ],
   "source": [
    "import pandas as pd\n",
    "import re\n",
    "\n",
    "# Convert text to lowercase and fill NAs\n",
    "data['CUSTOMER_VERBATIM'] = data['CUSTOMER_VERBATIM'].fillna(\"\").str.lower()\n",
    "data['CORRECTION_VERBATIM'] =data['CORRECTION_VERBATIM'].fillna(\"\").str.lower()\n",
    "\n",
    "# Define keyword-based tagging function\n",
    "def extract_tags(text):\n",
    "    tags = []\n",
    "    if \"steering\" in text:\n",
    "        tags.append(\"steering issue\")\n",
    "    if \"noise\" in text or \"rattle\" in text:\n",
    "        tags.append(\"noise issue\")\n",
    "    if \"replace\" in text or \"replaced\" in text:\n",
    "        tags.append(\"component replaced\")\n",
    "    if \"heat\" in text or \"heated\" in text:\n",
    "        tags.append(\"heating issue\")\n",
    "    if \"module\" in text:\n",
    "        tags.append(\"module involved\")\n",
    "    if \"seat\" in text:\n",
    "        tags.append(\"seat issue\")\n",
    "    return list(set(tags))  # remove duplicates\n",
    "\n",
    "# Apply to both text fields and merge tags\n",
    "data['TAGS_CUSTOMER'] = data['CUSTOMER_VERBATIM'].apply(extract_tags)\n",
    "data['TAGS_CORRECTION'] = data['CORRECTION_VERBATIM'].apply(extract_tags)\n",
    "\n",
    "# Combine and deduplicate tags\n",
    "data['ALL_TAGS'] = data.apply(lambda row: list(set(row['TAGS_CUSTOMER'] + row['TAGS_CORRECTION'])), axis=1)\n",
    "\n",
    "# Display sample with tags\n",
    "data[['CUSTOMER_VERBATIM', 'CORRECTION_VERBATIM', 'ALL_TAGS']].head()\n"
   ]
  },
  {
   "cell_type": "code",
   "execution_count": null,
   "id": "52f63fe1-bbf0-44be-a071-64fc7a3cc8f5",
   "metadata": {},
   "outputs": [],
   "source": []
  },
  {
   "cell_type": "code",
   "execution_count": null,
   "id": "3196656a-54f1-4e5b-99a3-199b43c79c8f",
   "metadata": {},
   "outputs": [],
   "source": []
  },
  {
   "cell_type": "code",
   "execution_count": null,
   "id": "35170f72-7d4f-4138-ab82-948e0632741e",
   "metadata": {},
   "outputs": [],
   "source": []
  }
 ],
 "metadata": {
  "kernelspec": {
   "display_name": "Python 3 (ipykernel)",
   "language": "python",
   "name": "python3"
  },
  "language_info": {
   "codemirror_mode": {
    "name": "ipython",
    "version": 3
   },
   "file_extension": ".py",
   "mimetype": "text/x-python",
   "name": "python",
   "nbconvert_exporter": "python",
   "pygments_lexer": "ipython3",
   "version": "3.12.4"
  }
 },
 "nbformat": 4,
 "nbformat_minor": 5
}
