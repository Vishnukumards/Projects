{
 "cells": [
  {
   "cell_type": "code",
   "execution_count": 90,
   "id": "a547ca45-8004-45c7-a7ca-d253ad015ed1",
   "metadata": {},
   "outputs": [],
   "source": [
    "import pandas as pd\n",
    "import numpy as np"
   ]
  },
  {
   "cell_type": "code",
   "execution_count": 91,
   "id": "7c0a454c-4e37-4872-a3f5-f9410c1cf0a3",
   "metadata": {},
   "outputs": [],
   "source": [
    "xls = pd.ExcelFile(\"DA - Task1.xlsx\")"
   ]
  },
  {
   "cell_type": "code",
   "execution_count": 92,
   "id": "8da14e15-9c77-44de-962a-a848d5f9c5e5",
   "metadata": {},
   "outputs": [
    {
     "data": {
      "text/plain": [
       "['Task', 'Taxonomy']"
      ]
     },
     "execution_count": 92,
     "metadata": {},
     "output_type": "execute_result"
    }
   ],
   "source": [
    "xls.sheet_names"
   ]
  },
  {
   "cell_type": "code",
   "execution_count": 93,
   "id": "de521807-18a1-4d3a-8724-d1bed1c87389",
   "metadata": {},
   "outputs": [],
   "source": [
    "task_df = pd.read_excel(\"DA - Task1.xlsx\",sheet_name=\"Task\")\n",
    "taxonomy_df =pd.read_excel(\"DA - Task1.xlsx\",sheet_name=\"Taxonomy\")"
   ]
  },
  {
   "cell_type": "code",
   "execution_count": 94,
   "id": "93ab1922-bfda-4e34-a8b5-5f1e0d4c4cb9",
   "metadata": {},
   "outputs": [
    {
     "data": {
      "text/html": [
       "<div>\n",
       "<style scoped>\n",
       "    .dataframe tbody tr th:only-of-type {\n",
       "        vertical-align: middle;\n",
       "    }\n",
       "\n",
       "    .dataframe tbody tr th {\n",
       "        vertical-align: top;\n",
       "    }\n",
       "\n",
       "    .dataframe thead th {\n",
       "        text-align: right;\n",
       "    }\n",
       "</style>\n",
       "<table border=\"1\" class=\"dataframe\">\n",
       "  <thead>\n",
       "    <tr style=\"text-align: right;\">\n",
       "      <th></th>\n",
       "      <th>Primary Key</th>\n",
       "      <th>Order Date</th>\n",
       "      <th>Product Category</th>\n",
       "      <th>Complaint</th>\n",
       "      <th>Cause</th>\n",
       "      <th>Correction</th>\n",
       "      <th>Root Cause</th>\n",
       "      <th>Symptom Condition 1</th>\n",
       "      <th>Symptom Component 1</th>\n",
       "      <th>Symptom Condition 2</th>\n",
       "      <th>Symptom Component 2</th>\n",
       "      <th>Symptom Condition 3</th>\n",
       "      <th>Symptom Component 3</th>\n",
       "      <th>Fix Condition 1</th>\n",
       "      <th>Fix Component 1</th>\n",
       "      <th>Fix Condition 2</th>\n",
       "      <th>Fix Component 2</th>\n",
       "      <th>Fix Condition 3</th>\n",
       "      <th>Fix Component 3</th>\n",
       "    </tr>\n",
       "  </thead>\n",
       "  <tbody>\n",
       "    <tr>\n",
       "      <th>0</th>\n",
       "      <td>SO0026296-1</td>\n",
       "      <td>2023-03-08</td>\n",
       "      <td>SPRAYS</td>\n",
       "      <td>VISIBLY NOTICE fasteners under cab on P clips ...</td>\n",
       "      <td>Not tighten at factory.</td>\n",
       "      <td>GO THROUGH AND RE-TIGHTEN ALL P CLIPS, NUTS, A...</td>\n",
       "      <td>Not Tightened</td>\n",
       "      <td>Loose</td>\n",
       "      <td>Cab P Clip</td>\n",
       "      <td>Loose</td>\n",
       "      <td>Left-Air Duct</td>\n",
       "      <td>Loose</td>\n",
       "      <td>Bulkhead Connector</td>\n",
       "      <td>Retightened</td>\n",
       "      <td>Cab P Clip</td>\n",
       "      <td>Retightened</td>\n",
       "      <td>Left Air Duct</td>\n",
       "      <td>Retightened</td>\n",
       "      <td>Bulkhead Connector</td>\n",
       "    </tr>\n",
       "    <tr>\n",
       "      <th>1</th>\n",
       "      <td>SO0026385-1</td>\n",
       "      <td>2023-03-08</td>\n",
       "      <td>SPRAYS</td>\n",
       "      <td>Fuel door will not stay open</td>\n",
       "      <td>GAS STRUT NOT INSTALLED OR ANYWHERE ON MACHINE</td>\n",
       "      <td>FOUND GAS STRUT NOT INSTALLED OR ANYWHERE ON M...</td>\n",
       "      <td>Not Installed</td>\n",
       "      <td>Won't stay open</td>\n",
       "      <td>Fuel Door</td>\n",
       "      <td>NaN</td>\n",
       "      <td>NaN</td>\n",
       "      <td>NaN</td>\n",
       "      <td>NaN</td>\n",
       "      <td>Installed</td>\n",
       "      <td>Gas Strut</td>\n",
       "      <td>NaN</td>\n",
       "      <td>NaN</td>\n",
       "      <td>NaN</td>\n",
       "      <td>NaN</td>\n",
       "    </tr>\n",
       "    <tr>\n",
       "      <th>2</th>\n",
       "      <td>SO0026385-11</td>\n",
       "      <td>2023-03-08</td>\n",
       "      <td>SPRAYS</td>\n",
       "      <td>Compressor pressure line, braided steel, crushed</td>\n",
       "      <td>Compressor pressure line, braided steel, crush...</td>\n",
       "      <td>DRAIN AIR FROM SYSTEM.REMOVE ASSOCIATED P CLIP...</td>\n",
       "      <td>NaN</td>\n",
       "      <td>NaN</td>\n",
       "      <td>NaN</td>\n",
       "      <td>NaN</td>\n",
       "      <td>NaN</td>\n",
       "      <td>NaN</td>\n",
       "      <td>NaN</td>\n",
       "      <td>NaN</td>\n",
       "      <td>NaN</td>\n",
       "      <td>NaN</td>\n",
       "      <td>NaN</td>\n",
       "      <td>NaN</td>\n",
       "      <td>NaN</td>\n",
       "    </tr>\n",
       "  </tbody>\n",
       "</table>\n",
       "</div>"
      ],
      "text/plain": [
       "    Primary Key Order Date Product Category  \\\n",
       "0   SO0026296-1 2023-03-08           SPRAYS   \n",
       "1   SO0026385-1 2023-03-08           SPRAYS   \n",
       "2  SO0026385-11 2023-03-08           SPRAYS   \n",
       "\n",
       "                                           Complaint  \\\n",
       "0  VISIBLY NOTICE fasteners under cab on P clips ...   \n",
       "1                       Fuel door will not stay open   \n",
       "2   Compressor pressure line, braided steel, crushed   \n",
       "\n",
       "                                               Cause  \\\n",
       "0                            Not tighten at factory.   \n",
       "1     GAS STRUT NOT INSTALLED OR ANYWHERE ON MACHINE   \n",
       "2  Compressor pressure line, braided steel, crush...   \n",
       "\n",
       "                                          Correction     Root Cause  \\\n",
       "0  GO THROUGH AND RE-TIGHTEN ALL P CLIPS, NUTS, A...  Not Tightened   \n",
       "1  FOUND GAS STRUT NOT INSTALLED OR ANYWHERE ON M...  Not Installed   \n",
       "2  DRAIN AIR FROM SYSTEM.REMOVE ASSOCIATED P CLIP...            NaN   \n",
       "\n",
       "  Symptom Condition 1 Symptom Component 1 Symptom Condition 2  \\\n",
       "0               Loose          Cab P Clip               Loose   \n",
       "1     Won't stay open           Fuel Door                 NaN   \n",
       "2                 NaN                 NaN                 NaN   \n",
       "\n",
       "  Symptom Component 2 Symptom Condition 3 Symptom Component 3 Fix Condition 1  \\\n",
       "0       Left-Air Duct               Loose  Bulkhead Connector     Retightened   \n",
       "1                 NaN                 NaN                 NaN       Installed   \n",
       "2                 NaN                 NaN                 NaN             NaN   \n",
       "\n",
       "  Fix Component 1 Fix Condition 2 Fix Component 2 Fix Condition 3  \\\n",
       "0      Cab P Clip     Retightened   Left Air Duct     Retightened   \n",
       "1       Gas Strut             NaN             NaN             NaN   \n",
       "2             NaN             NaN             NaN             NaN   \n",
       "\n",
       "      Fix Component 3  \n",
       "0  Bulkhead Connector  \n",
       "1                 NaN  \n",
       "2                 NaN  "
      ]
     },
     "execution_count": 94,
     "metadata": {},
     "output_type": "execute_result"
    }
   ],
   "source": [
    "task_df.head(3)"
   ]
  },
  {
   "cell_type": "code",
   "execution_count": 95,
   "id": "00e1fe27-5a64-418a-a19e-36dc6faf02a2",
   "metadata": {},
   "outputs": [
    {
     "data": {
      "text/html": [
       "<div>\n",
       "<style scoped>\n",
       "    .dataframe tbody tr th:only-of-type {\n",
       "        vertical-align: middle;\n",
       "    }\n",
       "\n",
       "    .dataframe tbody tr th {\n",
       "        vertical-align: top;\n",
       "    }\n",
       "\n",
       "    .dataframe thead th {\n",
       "        text-align: right;\n",
       "    }\n",
       "</style>\n",
       "<table border=\"1\" class=\"dataframe\">\n",
       "  <thead>\n",
       "    <tr style=\"text-align: right;\">\n",
       "      <th></th>\n",
       "      <th>Root Cause</th>\n",
       "      <th>Symptom Condition</th>\n",
       "      <th>Symptom Component</th>\n",
       "      <th>Fix Condition</th>\n",
       "      <th>Fix Component</th>\n",
       "    </tr>\n",
       "  </thead>\n",
       "  <tbody>\n",
       "    <tr>\n",
       "      <th>0</th>\n",
       "      <td>Not Tightened</td>\n",
       "      <td>Loose</td>\n",
       "      <td>Cab P Clip</td>\n",
       "      <td>Retightened</td>\n",
       "      <td>Cab P Clip</td>\n",
       "    </tr>\n",
       "    <tr>\n",
       "      <th>1</th>\n",
       "      <td>Not Installed</td>\n",
       "      <td>Won't stay open</td>\n",
       "      <td>Fuel Door</td>\n",
       "      <td>Installed</td>\n",
       "      <td>Gas Strut</td>\n",
       "    </tr>\n",
       "    <tr>\n",
       "      <th>2</th>\n",
       "      <td>Not Mentioned</td>\n",
       "      <td>Crushed</td>\n",
       "      <td>Compressor Pressure Line</td>\n",
       "      <td>Replaced</td>\n",
       "      <td>Braided Steel</td>\n",
       "    </tr>\n",
       "  </tbody>\n",
       "</table>\n",
       "</div>"
      ],
      "text/plain": [
       "      Root Cause Symptom Condition          Symptom Component Fix Condition  \\\n",
       "0  Not Tightened              Loose                Cab P Clip   Retightened   \n",
       "1  Not Installed    Won't stay open                 Fuel Door     Installed   \n",
       "2  Not Mentioned            Crushed  Compressor Pressure Line      Replaced   \n",
       "\n",
       "   Fix Component  \n",
       "0     Cab P Clip  \n",
       "1      Gas Strut  \n",
       "2  Braided Steel  "
      ]
     },
     "execution_count": 95,
     "metadata": {},
     "output_type": "execute_result"
    }
   ],
   "source": [
    "taxonomy_df.head(3)"
   ]
  },
  {
   "cell_type": "code",
   "execution_count": 96,
   "id": "cf1e61c3-9efa-46ec-8b7e-43708188a366",
   "metadata": {},
   "outputs": [
    {
     "name": "stdout",
     "output_type": "stream",
     "text": [
      "<class 'pandas.core.frame.DataFrame'>\n",
      "RangeIndex: 20 entries, 0 to 19\n",
      "Data columns (total 19 columns):\n",
      " #   Column               Non-Null Count  Dtype         \n",
      "---  ------               --------------  -----         \n",
      " 0   Primary Key          20 non-null     object        \n",
      " 1   Order Date           20 non-null     datetime64[ns]\n",
      " 2   Product Category     20 non-null     object        \n",
      " 3   Complaint            20 non-null     object        \n",
      " 4   Cause                20 non-null     object        \n",
      " 5   Correction           20 non-null     object        \n",
      " 6   Root Cause           2 non-null      object        \n",
      " 7   Symptom Condition 1  2 non-null      object        \n",
      " 8   Symptom Component 1  2 non-null      object        \n",
      " 9   Symptom Condition 2  1 non-null      object        \n",
      " 10  Symptom Component 2  1 non-null      object        \n",
      " 11  Symptom Condition 3  1 non-null      object        \n",
      " 12  Symptom Component 3  1 non-null      object        \n",
      " 13  Fix Condition 1      2 non-null      object        \n",
      " 14  Fix Component 1      2 non-null      object        \n",
      " 15  Fix Condition 2      1 non-null      object        \n",
      " 16  Fix Component 2      1 non-null      object        \n",
      " 17  Fix Condition 3      1 non-null      object        \n",
      " 18  Fix Component 3      1 non-null      object        \n",
      "dtypes: datetime64[ns](1), object(18)\n",
      "memory usage: 3.1+ KB\n"
     ]
    }
   ],
   "source": [
    "task_df.info()"
   ]
  },
  {
   "cell_type": "code",
   "execution_count": 111,
   "id": "d49c143f-3034-477f-84eb-77cccfe5c88f",
   "metadata": {},
   "outputs": [],
   "source": [
    "task_df = task_df.iloc[:,:6]"
   ]
  },
  {
   "cell_type": "code",
   "execution_count": 112,
   "id": "c009e1f5-a99a-4483-b191-8bd269b943ee",
   "metadata": {
    "scrolled": true
   },
   "outputs": [
    {
     "name": "stdout",
     "output_type": "stream",
     "text": [
      "<class 'pandas.core.frame.DataFrame'>\n",
      "RangeIndex: 24 entries, 0 to 23\n",
      "Data columns (total 5 columns):\n",
      " #   Column              Non-Null Count  Dtype \n",
      "---  ------              --------------  ----- \n",
      " 0   Root Cause          18 non-null     object\n",
      " 1   Symptom Condition   17 non-null     object\n",
      " 2   Symptom Component   18 non-null     object\n",
      " 3   Fix Condition       9 non-null      object\n",
      " 4   Fix Component       24 non-null     object\n",
      "dtypes: object(5)\n",
      "memory usage: 1.1+ KB\n"
     ]
    }
   ],
   "source": [
    "taxonomy_df.info()"
   ]
  },
  {
   "cell_type": "code",
   "execution_count": 113,
   "id": "349cb650-4e53-40c9-acfc-5e886e0f238d",
   "metadata": {},
   "outputs": [],
   "source": [
    "# Drop NaN and convert to list\n",
    "root_causes = taxonomy_df['Root Cause'].dropna().tolist()\n",
    "symptom_conditions = taxonomy_df['Symptom Condition '].dropna().tolist()\n",
    "symptom_components = taxonomy_df['Symptom Component'].dropna().tolist()\n",
    "fix_conditions = taxonomy_df['Fix Condition'].dropna().tolist()\n",
    "fix_components = taxonomy_df['Fix Component'].dropna().tolist()\n"
   ]
  },
  {
   "cell_type": "code",
   "execution_count": 114,
   "id": "0bb3cefe-ebdb-4292-b274-3ba984a50d52",
   "metadata": {},
   "outputs": [],
   "source": [
    "from fuzzywuzzy import process\n",
    "\n",
    "def fuzzy_match(text, choices, threshold>=50):\n",
    "    if pd.isna(text) or not str(text).strip():\n",
    "        return \"\"\n",
    "    match, score = process.extractOne(str(text), choices)\n",
    "    return match if score >= threshold else \"\"\n"
   ]
  },
  {
   "cell_type": "code",
   "execution_count": 115,
   "id": "70fb23ff-bcb6-4237-bdd7-78bbdba68cee",
   "metadata": {},
   "outputs": [],
   "source": [
    "# Tagging Complaint → Symptom\n",
    "task_df['Symptom_Condition'] = task_df['Complaint'].apply(lambda x: fuzzy_match(x, symptom_conditions))\n",
    "task_df['Symptom_Component'] = task_df['Complaint'].apply(lambda x: fuzzy_match(x, symptom_components))\n",
    "\n",
    "# Tagging Cause → Root Cause\n",
    "task_df['Root_Cause'] = task_df['Cause'].apply(lambda x: fuzzy_match(x, root_causes))\n",
    "\n",
    "# Tagging Correction → Fix\n",
    "task_df['Fix_Condition'] = task_df['Correction'].apply(lambda x: fuzzy_match(x, fix_conditions))\n",
    "task_df['Fix_Component'] = task_df['Correction'].apply(lambda x: fuzzy_match(x, fix_components))\n"
   ]
  },
  {
   "cell_type": "code",
   "execution_count": 116,
   "id": "b7d85296-1292-44b3-90c7-375c1981610a",
   "metadata": {},
   "outputs": [
    {
     "data": {
      "text/plain": [
       "False"
      ]
     },
     "execution_count": 116,
     "metadata": {},
     "output_type": "execute_result"
    }
   ],
   "source": [
    "task_df['Symptom_Condition'].isnull().any()"
   ]
  },
  {
   "cell_type": "code",
   "execution_count": 117,
   "id": "d01f8d90-c17a-41c3-ae7c-c3cf5656e24e",
   "metadata": {},
   "outputs": [
    {
     "data": {
      "text/plain": [
       "False"
      ]
     },
     "execution_count": 117,
     "metadata": {},
     "output_type": "execute_result"
    }
   ],
   "source": [
    "task_df['Symptom_Component'].isnull().any()"
   ]
  },
  {
   "cell_type": "code",
   "execution_count": 118,
   "id": "a108ceae-2912-4c6b-9bb5-119c336fe8a7",
   "metadata": {},
   "outputs": [
    {
     "data": {
      "text/plain": [
       "False"
      ]
     },
     "execution_count": 118,
     "metadata": {},
     "output_type": "execute_result"
    }
   ],
   "source": [
    "task_df['Fix_Component'].isnull().any()"
   ]
  },
  {
   "cell_type": "code",
   "execution_count": 119,
   "id": "99354bb7-7587-4864-91c7-c87801d9c685",
   "metadata": {},
   "outputs": [
    {
     "data": {
      "text/plain": [
       "False"
      ]
     },
     "execution_count": 119,
     "metadata": {},
     "output_type": "execute_result"
    }
   ],
   "source": [
    "task_df['Fix_Condition'].isnull().any()"
   ]
  },
  {
   "cell_type": "code",
   "execution_count": 120,
   "id": "e3684ef4-700f-414e-b9c4-f58bfec43187",
   "metadata": {},
   "outputs": [
    {
     "data": {
      "text/plain": [
       "False"
      ]
     },
     "execution_count": 120,
     "metadata": {},
     "output_type": "execute_result"
    }
   ],
   "source": [
    "task_df['Root_Cause'].isnull().any()"
   ]
  },
  {
   "cell_type": "code",
   "execution_count": 122,
   "id": "45a28e5f-5bfe-4a98-85e3-3c7d4f560b09",
   "metadata": {},
   "outputs": [],
   "source": [
    "task_df.to_excel(\"Tagged_Task1_Output1.xlsx\", index=False)"
   ]
  },
  {
   "cell_type": "code",
   "execution_count": null,
   "id": "b52b3535-9740-4d3f-89b0-cbfcad80c967",
   "metadata": {},
   "outputs": [],
   "source": []
  },
  {
   "cell_type": "code",
   "execution_count": null,
   "id": "6e2f8456-485e-47f9-a206-70008d9c130a",
   "metadata": {},
   "outputs": [],
   "source": []
  },
  {
   "cell_type": "code",
   "execution_count": null,
   "id": "29bc6d70-6f9d-45cd-9faf-a7031c55eb66",
   "metadata": {},
   "outputs": [],
   "source": []
  },
  {
   "cell_type": "code",
   "execution_count": null,
   "id": "3989d612-d059-4d34-b9f5-1699d37cf1df",
   "metadata": {},
   "outputs": [],
   "source": []
  },
  {
   "cell_type": "code",
   "execution_count": null,
   "id": "fe8244f5-b397-4f44-87e3-c44cc8d5e70f",
   "metadata": {},
   "outputs": [],
   "source": []
  },
  {
   "cell_type": "code",
   "execution_count": null,
   "id": "31ff1256-fa20-4f3b-b171-5055a0036b59",
   "metadata": {},
   "outputs": [],
   "source": []
  },
  {
   "cell_type": "code",
   "execution_count": null,
   "id": "b36038cc-e547-40cd-a7b2-c3c153e29a08",
   "metadata": {},
   "outputs": [],
   "source": []
  },
  {
   "cell_type": "code",
   "execution_count": null,
   "id": "14184335-3d1a-4bad-bab7-c3c91fd3f546",
   "metadata": {},
   "outputs": [],
   "source": []
  },
  {
   "cell_type": "code",
   "execution_count": null,
   "id": "2439eb6f-d1b5-4242-bd45-77e2a384fa9a",
   "metadata": {},
   "outputs": [],
   "source": []
  }
 ],
 "metadata": {
  "kernelspec": {
   "display_name": "Python 3 (ipykernel)",
   "language": "python",
   "name": "python3"
  },
  "language_info": {
   "codemirror_mode": {
    "name": "ipython",
    "version": 3
   },
   "file_extension": ".py",
   "mimetype": "text/x-python",
   "name": "python",
   "nbconvert_exporter": "python",
   "pygments_lexer": "ipython3",
   "version": "3.12.4"
  }
 },
 "nbformat": 4,
 "nbformat_minor": 5
}
